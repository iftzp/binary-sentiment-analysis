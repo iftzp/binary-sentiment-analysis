{
 "cells": [
  {
   "cell_type": "markdown",
   "metadata": {},
   "source": [
    "# Sentiment Polarity Prediction with Naive Bayes\n",
    "\n",
    "This notebook contains a basic implementation of document-level sentiment analysis\n",
    "for movie reviews with multinomial Naive Bayes and bag-of-words features\n",
    "and of cross-validation.\n",
    "* No special treatment of rare or unknown words. Unknown words in the test data are skipped.\n",
    "\n",
    "We use the movie review polarity data set of Pang and Lee 2004 [A Sentimental Education: Sentiment Analysis Using Subjectivity Summarization Based on Minimum Cuts](https://www.aclweb.org/anthology/P04-1035/) in Version 2.0 available from http://www.cs.cornell.edu/People/pabo/movie-review-data (section \"Sentiment polarity datasets\"). This dataset contains 1000 positive and 1000 negative reviews, each tokenised, sentence-split (one sentence per line) and lowercased. Each review has been assigned to 1 of 10 cross-validation folds by the authors and this setup should be followed to compare with published results.\n"
   ]
  },
  {
   "cell_type": "code",
   "execution_count": 19,
   "metadata": {},
   "outputs": [],
   "source": [
    "import os\n",
    "import tarfile\n",
    "import time\n",
    "import urllib.request\n",
    "import numpy\n",
    "import pandas as pd\n",
    "from sklearn.naive_bayes import MultinomialNB\n",
    "from sklearn import metrics\n",
    "\n",
    "# choose between 'local-tgz', 'local-folder' and 'web',\n",
    "# see description under each heading below\n",
    "\n",
    "data_source = 'local-folder'\n",
    "\n",
    "# adjust paths as needed\n",
    "\n",
    "data_folder = os.path.join('data', 'txt_sentoken')\n",
    "# data_tgz    = os.path.join('data', 'pang-and-lee-2004', 'review_polarity.tar.gz')\n",
    "\n",
    "# data_url = 'https://www.cs.cornell.edu/people/pabo/movie-review-data/review_polarity.tar.gz'"
   ]
  },
  {
   "cell_type": "code",
   "execution_count": 20,
   "metadata": {},
   "outputs": [],
   "source": [
    "class PL04DataLoader_Part_1:\n",
    "    \n",
    "    def __init__(self):\n",
    "        pass\n",
    "    \n",
    "    def get_labelled_dataset(self, fold = 0):\n",
    "        ''' Compile a fold of the data set\n",
    "        '''\n",
    "        dataset = []\n",
    "        for label in ('pos', 'neg'):\n",
    "            for document in self.get_documents(\n",
    "                fold = fold,\n",
    "                label = label,\n",
    "            ):\n",
    "                dataset.append((document, label))\n",
    "        return dataset\n",
    "    \n",
    "    def get_documents(self, fold = 0, label = 'pos'):\n",
    "        ''' Enumerate the raw contents of all data set files.\n",
    "            Args:\n",
    "                data_dir: relative or absolute path to the data set folder\n",
    "                fold: which fold to load (0 to n_folds-1)\n",
    "                label: 'pos' or 'neg' to\n",
    "                    select data with positive or negative sentiment\n",
    "                    polarity\n",
    "            Return:\n",
    "                List of tokenised documents, each a list of sentences\n",
    "                that in turn are lists of tokens\n",
    "        '''\n",
    "        raise NotImplementedError"
   ]
  },
  {
   "cell_type": "code",
   "execution_count": 21,
   "metadata": {},
   "outputs": [],
   "source": [
    "class PL04DataLoader(PL04DataLoader_Part_1):\n",
    "    \n",
    "    def get_xval_splits(self):\n",
    "        ''' Split data with labels for cross-validation\n",
    "            returns a list of k pairs (training_data, test_data)\n",
    "            for k cross-validation\n",
    "        '''\n",
    "        # load the folds\n",
    "        folds = []\n",
    "        for i in range(10):\n",
    "            folds.append(self.get_labelled_dataset(\n",
    "                fold = i\n",
    "            ))\n",
    "        # create training-test splits\n",
    "        retval = []\n",
    "        for i in range(10):\n",
    "            test_data = folds[i]\n",
    "            training_data = []\n",
    "            for j in range(9):\n",
    "                ij1 = (i+j+1) % 10\n",
    "                assert ij1 != i\n",
    "                training_data = training_data + folds[ij1]\n",
    "            retval.append((training_data, test_data))\n",
    "        return retval"
   ]
  },
  {
   "cell_type": "code",
   "execution_count": 22,
   "metadata": {},
   "outputs": [],
   "source": [
    "class PL04DataLoaderFromStream(PL04DataLoader):\n",
    "        \n",
    "    def __init__(self, tgz_stream, **kwargs):\n",
    "        super().__init__(**kwargs)\n",
    "        self.data = {}\n",
    "        counter = 0\n",
    "        with tarfile.open(\n",
    "            mode = 'r|gz',\n",
    "            fileobj = tgz_stream\n",
    "        ) as tar_archive:\n",
    "            for tar_member in tar_archive:\n",
    "                if counter == 2000:\n",
    "                    break\n",
    "                path_components = tar_member.name.split('/')\n",
    "                filename = path_components[-1]\n",
    "                if filename.startswith('cv') \\\n",
    "                and filename.endswith('.txt') \\\n",
    "                and '_' in filename:\n",
    "                    label = path_components[-2]\n",
    "                    fold = int(filename[2])\n",
    "                    key = (fold, label)\n",
    "                    if key not in self.data:\n",
    "                        self.data[key] = []\n",
    "                    f = tar_archive.extractfile(tar_member)\n",
    "                    document = [\n",
    "                        line.decode('utf-8').split()\n",
    "                        for line in f.readlines()\n",
    "                    ]\n",
    "                    self.data[key].append(document)\n",
    "                    counter += 1\n",
    "            \n",
    "    def get_documents(self, fold = 0, label = 'pos'):\n",
    "        return self.data[(fold, label)]"
   ]
  },
  {
   "cell_type": "markdown",
   "metadata": {},
   "source": [
    "## Read Data from the Web\n",
    "This should run efficiently both on google colab and locally but has the disadvantage that the same data is downloaded each time the notebook is run."
   ]
  },
  {
   "cell_type": "code",
   "execution_count": 23,
   "metadata": {},
   "outputs": [],
   "source": [
    "class PL04DataLoaderFromURL(PL04DataLoaderFromStream):\n",
    "    \n",
    "    def __init__(self, data_url, **kwargs):\n",
    "        with urllib.request.urlopen(data_url) as tgz_stream:\n",
    "            super().__init__(tgz_stream, **kwargs)"
   ]
  },
  {
   "cell_type": "markdown",
   "metadata": {},
   "source": [
    "## Read Data from a Local .tgz File\n",
    "\n",
    "You manually download the .tgz once to a filesystem that can be accessed from the notebook, e.g. google drive on colab, and this notebook reads this file in one chunk. \n",
    "\n",
    "Note that if you are accessing files from google drive on colab, you will need to mount your drive and enter an authentication token:\n",
    "\n",
    "```\n",
    "from google.colab import drive\n",
    "drive.mount('/content/drive')\n",
    "```\n",
    "\n",
    "You will also have to change your *data_tgz* or *data_folder* paths above so that they start with *'/content/drive/My Drive/'*"
   ]
  },
  {
   "cell_type": "code",
   "execution_count": 24,
   "metadata": {},
   "outputs": [],
   "source": [
    "class PL04DataLoaderFromTGZ(PL04DataLoaderFromStream):\n",
    "    \n",
    "    def __init__(self, data_path, **kwargs):\n",
    "        with open(data_path, 'rb') as tgz_stream:\n",
    "            super().__init__(tgz_stream, **kwargs)"
   ]
  },
  {
   "cell_type": "markdown",
   "metadata": {},
   "source": [
    "## Read Data from a Local Folder\n",
    "\n",
    "Extract the .tgz to a local folder and only load the required files. This is usually the fastest option when storage is on a local SSD. On remote filesystems, however, this can be very slow."
   ]
  },
  {
   "cell_type": "code",
   "execution_count": 25,
   "metadata": {},
   "outputs": [],
   "source": [
    "class PL04DataLoaderFromFolder(PL04DataLoader):\n",
    "    \n",
    "    def __init__(self, data_dir, **kwargs):\n",
    "        self.data_dir = data_dir\n",
    "        super().__init__(**kwargs)\n",
    "        \n",
    "    def get_documents(self, fold = 0, label = 'pos'):\n",
    "        # read folder contents\n",
    "        path = os.path.join(self.data_dir, label)\n",
    "        dir_entries = os.listdir(path)\n",
    "        # must process entries in numeric order to\n",
    "        # replicate order of original experiments\n",
    "        dir_entries.sort()\n",
    "        # check each entry and add to data if matching\n",
    "        # selection criteria\n",
    "        for filename in dir_entries:\n",
    "            if filename.startswith('cv') \\\n",
    "            and filename.endswith('.txt'):\n",
    "                if fold == int(filename[2]):\n",
    "                    # correct fold\n",
    "                    f = open(os.path.join(path, filename), 'rt')\n",
    "                    # \"yield\" tells Python to return an iterator\n",
    "                    # object that produces the yields of this\n",
    "                    # function as elements without creating a\n",
    "                    # full list of all elements\n",
    "                    yield [line.split() for line in f.readlines()]\n",
    "                    f.close()"
   ]
  },
  {
   "cell_type": "code",
   "execution_count": 26,
   "metadata": {},
   "outputs": [],
   "source": [
    "if data_source == 'local-folder':\n",
    "    data_loader = PL04DataLoaderFromFolder(data_folder)\n",
    "elif data_source == 'local-tgz':\n",
    "    data_loader = PL04DataLoaderFromTGZ(data_tgz)\n",
    "elif data_source == 'web':\n",
    "    data_loader = PL04DataLoaderFromURL(data_url)\n",
    "else:\n",
    "    raise ValueError('Unsupported data source %r' %data_source)"
   ]
  },
  {
   "cell_type": "code",
   "execution_count": 27,
   "metadata": {},
   "outputs": [
    {
     "name": "stdout",
     "output_type": "stream",
     "text": [
      "== pos ==\n",
      "doc sentences start of first sentence\n",
      "  0      25   films|adapted|from|comic|books|have|had|plenty|of|success|,|whether\n",
      "  1      39   every|now|and|then|a|movie|comes|along|from|a|suspect|studio|,|with\n",
      "  2      19   you've|got|mail|works|alot|better|than|it|deserves|to|.|in|order|to|make\n",
      "  3      42   \"|jaws|\"|is|a|rare|film|that|grabs|your|attention|before|it|shows|you|a\n",
      "  4      25   moviemaking|is|a|lot|like|being|the|general|manager|of|an|nfl|team|in\n",
      "== neg ==\n",
      "doc sentences start of first sentence\n",
      "  0      35   plot|:|two|teen|couples|go|to|a|church|party|,|drink|and|then|drive|.\n",
      "  1      13   the|happy|bastard's|quick|movie|review|damn|that|y2k|bug|.|it's|got|a\n",
      "  2      23   it|is|movies|like|these|that|make|a|jaded|movie|viewer|thankful|for|the\n",
      "  3      19   \"|quest|for|camelot|\"|is|warner|bros|.|'|first|feature-length|,\n",
      "  4      37   synopsis|:|a|mentally|unstable|man|undergoing|psychotherapy|saves|a|boy\n"
     ]
    }
   ],
   "source": [
    "def get_document_preview(document, max_length = 72):\n",
    "    s = []\n",
    "    count = 0\n",
    "    reached_limit = False\n",
    "    for sentence in document:\n",
    "        for token in sentence:\n",
    "            if count + len(token) + len(s) > max_length:\n",
    "                reached_limit = True\n",
    "                break\n",
    "            s.append(token)\n",
    "            count += len(token)\n",
    "        if reached_limit:\n",
    "            break\n",
    "    return '|'.join(s)\n",
    "    \n",
    "for label in 'pos neg'.split():\n",
    "    print(f'== {label} ==')\n",
    "    print('doc sentences start of first sentence')\n",
    "    for index, document in enumerate(data_loader.get_documents(\n",
    "        label = label\n",
    "    )):\n",
    "        print('%3d %7d   %s' %(\n",
    "            index, len(document), get_document_preview(document)\n",
    "        ))\n",
    "        if index == 4:\n",
    "            break"
   ]
  },
  {
   "cell_type": "markdown",
   "metadata": {},
   "source": [
    "## Create Training-Test Splits for Cross-Validation"
   ]
  },
  {
   "cell_type": "code",
   "execution_count": 28,
   "metadata": {},
   "outputs": [
    {
     "name": "stdout",
     "output_type": "stream",
     "text": [
      "tr-size te-size (number of documents)\n",
      "   1800     200\n",
      "   1800     200\n",
      "   1800     200\n",
      "   1800     200\n",
      "   1800     200\n",
      "   1800     200\n",
      "   1800     200\n",
      "   1800     200\n",
      "   1800     200\n",
      "   1800     200\n"
     ]
    }
   ],
   "source": [
    "splits = data_loader.get_xval_splits()\n",
    "\n",
    "print('tr-size te-size (number of documents)')\n",
    "for xval_tr_data, xval_te_data in splits:\n",
    "    print('%7d %7d' %(len(xval_tr_data), len(xval_te_data)))"
   ]
  },
  {
   "cell_type": "markdown",
   "metadata": {},
   "source": [
    "## Evaluation Table"
   ]
  },
  {
   "cell_type": "markdown",
   "metadata": {},
   "source": [
    "We plan to run many different experiments using different feature representations and different learning models. Therefore, having an evaluation table which contains the details of each experiment and the corresponding evalation results will be useful. Below, we define table to store these."
   ]
  },
  {
   "cell_type": "code",
   "execution_count": 59,
   "metadata": {},
   "outputs": [],
   "source": [
    "evaluation_df = pd.DataFrame(columns=['name', 'learning_model', 'features', 'clip_counts', 'avg_cv_acc', 'rmse', 'min_acc', 'max_acc'])"
   ]
  },
  {
   "cell_type": "markdown",
   "metadata": {},
   "source": [
    "## Interface for Sentiment Polarity Predictor\n",
    "Let's define a base class to clarify how we plan to use polarity predictors. Its functions will have to be implemented in sub-classes."
   ]
  },
  {
   "cell_type": "code",
   "execution_count": 30,
   "metadata": {},
   "outputs": [],
   "source": [
    "class PolarityPredictorInterface:\n",
    "\n",
    "    def train(self, data_with_labels):\n",
    "        raise NotImplementedError\n",
    "        \n",
    "    def predict(self, data):\n",
    "        raise NotImplementedError"
   ]
  },
  {
   "cell_type": "markdown",
   "metadata": {},
   "source": [
    "The next class we define contains three different feature representations:\n",
    "* Bag-of-Words (Unigrams)\n",
    "* Bag-of-Bigrams\n",
    "* Bag-of-Trigrams\n",
    "\n",
    "The relevant functions take in a *features* parameter which specifies which features to use. There is also a *learning_model* parameter which specifies which particular learning model to use."
   ]
  },
  {
   "cell_type": "code",
   "execution_count": 31,
   "metadata": {},
   "outputs": [],
   "source": [
    "class PolarityPredictorInit(PolarityPredictorInterface):\n",
    "    \n",
    "    def train(self, data_with_labels, features, learning_model):\n",
    "        \"\"\"\n",
    "        Function which trains model. Extracts features from extract_features function\n",
    "        (changes for different features). Gets targets also and passes both to training function.\n",
    "        \"\"\"\n",
    "        \n",
    "        # Initialise vocab set object\n",
    "        self.reset_feature_sets()\n",
    "        \n",
    "        # Populate with the data\n",
    "        self.add_to_feature_sets_from_data(data_with_labels, features)\n",
    "        \n",
    "        self.finalise_vocab(features)\n",
    "        tr_features = self.extract_features(\n",
    "            data_with_labels, features\n",
    "        )\n",
    "        tr_targets = self.get_targets(data_with_labels)\n",
    "        self.train_model_on_features(tr_features, tr_targets, learning_model)\n",
    "\n",
    "    def reset_feature_sets(self):\n",
    "        \"\"\"\n",
    "        Initialises a set to hold each of the feature sets.\n",
    "        \"\"\"\n",
    "        self.vocab = set()\n",
    "        self.bigrams = set()\n",
    "        self.trigrams = set()\n",
    "        \n",
    "    def add_to_feature_sets_from_data(self, data, features):\n",
    "        \"\"\"\n",
    "        Parses tokens in data and adds them to each feature set.\n",
    "        \"\"\"\n",
    "        if 'bow' in features:\n",
    "            for document, label in data:\n",
    "                for sentence in document:\n",
    "                    for token in sentence:\n",
    "                        self.vocab.add(token)\n",
    "                        \n",
    "        if 'bob' in features:\n",
    "            for document, label in data:\n",
    "                for sentence in document:\n",
    "                    for index, token in enumerate(sentence):\n",
    "                        if index != 0:\n",
    "                            bigram = sentence[index-1] + ' ' + token\n",
    "                            self.bigrams.add(bigram)\n",
    "                        \n",
    "        if 'bot' in features:\n",
    "            for document, label in data:\n",
    "                for sentence in document:\n",
    "                    for index, token in enumerate(sentence):\n",
    "                        if index not in [0, 1]:\n",
    "                            trigram = sentence[index-2] + ' ' + sentence[index-1] + ' ' + token\n",
    "                            self.trigrams.add(trigram)\n",
    "\n",
    "    def finalise_vocab(self, features):\n",
    "        \"\"\"\n",
    "        Creates a dict for the feature sets for faster operations.\n",
    "        \"\"\"\n",
    "        self.vocab = list(self.vocab)\n",
    "        # create reverse map for fast token lookup\n",
    "        self.vocab2index = {}\n",
    "        for index, token in enumerate(self.vocab):\n",
    "            self.vocab2index[token] = index\n",
    "            \n",
    "        self.bigrams = list(self.bigrams)\n",
    "        # create reverse map for fast token lookup\n",
    "        self.bigram2index = {}\n",
    "        for index, token in enumerate(self.bigrams):\n",
    "            self.bigram2index[token] = index\n",
    "            \n",
    "        self.trigrams = list(self.trigrams)\n",
    "        # create reverse map for fast token lookup\n",
    "        self.trigram2index = {}\n",
    "        for index, token in enumerate(self.trigrams):\n",
    "            self.trigram2index[token] = index\n",
    "        \n",
    "        \n",
    "    def extract_features(self, data, features):\n",
    "        raise NotImplementedError\n",
    "    \n",
    "    def get_targets(self, data, label2index = None):\n",
    "        raise NotImplementedError\n",
    "        \n",
    "    def train_model_on_features(self, tr_features, tr_targets):\n",
    "        raise NotImplementedError"
   ]
  },
  {
   "cell_type": "markdown",
   "metadata": {},
   "source": [
    "[INSERT COMMENTARY]"
   ]
  },
  {
   "cell_type": "code",
   "execution_count": 32,
   "metadata": {},
   "outputs": [],
   "source": [
    "class PolarityPredictorExtractFeatures(PolarityPredictorInit):\n",
    "    \n",
    "    def __init__(self, clip_counts = True):\n",
    "        self.clip_counts = clip_counts\n",
    "        \n",
    "    def extract_features(self, data, feature_list):\n",
    "        \"\"\"\n",
    "        Creates features from the data. This implementation creates a dict which contains the relevant feature\n",
    "        matrices for different feature implementations.\n",
    "        \"\"\"\n",
    "        feature_matrices = {}\n",
    "        \n",
    "#         master_matrix = numpy.zeros((len(data),1), dtype=numpy.int32)\n",
    "        master_matrix = None\n",
    "\n",
    "        for feature in feature_list:\n",
    "            if feature == 'bow':\n",
    "            # create numpy array of required size\n",
    "                columns = len(self.vocab)\n",
    "            elif feature == 'bob':\n",
    "                columns = len(self.bigrams)\n",
    "            elif feature == 'bot':\n",
    "                columns = len(self.trigrams)\n",
    "            rows = len(data)\n",
    "\n",
    "            # Initialise a feature matrix with zeros\n",
    "            features = numpy.zeros((rows, columns), dtype=numpy.int32)\n",
    "\n",
    "            # populate feature matrix\n",
    "            for row, item in enumerate(data):\n",
    "                document, _ = item\n",
    "                for sentence in document:\n",
    "                    for index, token in enumerate(sentence):\n",
    "                        try:\n",
    "                            if feature == 'bow':\n",
    "                                index = self.vocab2index[token]\n",
    "                            if feature == 'bob':\n",
    "                                if index != 0:\n",
    "                                    index = self.bigram2index[sentence[index-1] + ' ' + token]\n",
    "                            if feature == 'bot':\n",
    "                                if index not in [0, 1]:\n",
    "                                    index = self.trigram2index[sentence[index-2] + ' ' + sentence[index-1] + ' ' + token]\n",
    "                        except KeyError:\n",
    "                            # token not in vocab\n",
    "                            # --> skip this token\n",
    "                            # --> continue with next token\n",
    "                            continue\n",
    "                        if self.clip_counts:\n",
    "                            features[row, index] = 1\n",
    "                        else:\n",
    "                            features[row, index] += 1\n",
    "            new_matrix = features\n",
    "            if master_matrix is None:\n",
    "                master_matrix = new_matrix\n",
    "            else:\n",
    "                master_matrix = numpy.append(master_matrix,new_matrix, 1)\n",
    "                \n",
    "        nom = (master_matrix-master_matrix.min(axis=0))*(1)\n",
    "        denom = master_matrix.max(axis=0) - master_matrix.min(axis=0)\n",
    "        denom[denom==0] = 1\n",
    "        master_matrix = 0 + nom / denom\n",
    "        \n",
    "        return master_matrix"
   ]
  },
  {
   "cell_type": "code",
   "execution_count": 33,
   "metadata": {},
   "outputs": [],
   "source": [
    "class PolarityPredictorAssignTargets(PolarityPredictorExtractFeatures):\n",
    " \n",
    "    def get_targets(self, data):\n",
    "        ''' create column vector with target labels\n",
    "        '''\n",
    "        # prepare target vector\n",
    "        targets = numpy.zeros(len(data), dtype=numpy.int8)\n",
    "        index = 0\n",
    "        for _, label in data:\n",
    "            if label == 'pos':\n",
    "                targets[index] = 1\n",
    "            index += 1\n",
    "        return targets\n",
    "\n",
    "    def train_model_on_features(self, tr_features, tr_targets):\n",
    "        raise NotImplementedError"
   ]
  },
  {
   "cell_type": "code",
   "execution_count": 34,
   "metadata": {},
   "outputs": [],
   "source": [
    "class PolarityPredictor(PolarityPredictorAssignTargets):\n",
    "\n",
    "    def train_model_on_features(self, tr_features, tr_targets, model):\n",
    "        # pass numpy array to sklearn to train NB\n",
    "        if model == 'multinb':\n",
    "            self.model = MultinomialNB()\n",
    "        self.model.fit(tr_features, tr_targets)\n",
    "        \n",
    "    def predict(\n",
    "        self, data, feature_list, get_accuracy = False,\n",
    "        get_confusion_matrix = False\n",
    "    ):\n",
    "        # Extract features from unseen data\n",
    "        features = self.extract_features(data, feature_list)\n",
    "        # use numpy to get predictions\n",
    "        y_pred = self.model.predict(features)\n",
    "        # restore labels\n",
    "        labels = []\n",
    "        for is_positive in y_pred:\n",
    "            if is_positive:\n",
    "                labels.append('pos')\n",
    "            else:\n",
    "                labels.append('neg')\n",
    "        if get_accuracy or get_confusion_matrix:\n",
    "            retval = []\n",
    "            retval.append(labels)\n",
    "            y_true = self.get_targets(data)\n",
    "            if get_accuracy:\n",
    "                retval.append(\n",
    "                    metrics.accuracy_score(y_true, y_pred)\n",
    "                )\n",
    "            if get_confusion_matrix:\n",
    "                retval.append(\n",
    "                    metrics.confusion_matrix(y_true, y_pred)\n",
    "                )\n",
    "            return retval\n",
    "        else:\n",
    "            return labels"
   ]
  },
  {
   "cell_type": "markdown",
   "metadata": {},
   "source": [
    "# Experiments"
   ]
  },
  {
   "cell_type": "markdown",
   "metadata": {},
   "source": [
    "## 1. Baseline"
   ]
  },
  {
   "cell_type": "markdown",
   "metadata": {},
   "source": [
    "Below, we run the baseline approach as a functionality test."
   ]
  },
  {
   "cell_type": "code",
   "execution_count": 46,
   "metadata": {
    "scrolled": true
   },
   "outputs": [],
   "source": [
    "model = PolarityPredictor(clip_counts=True)\n",
    "feature_list = ['bow']\n",
    "learning_model = 'multinb'\n",
    "model.train(splits[0][0], feature_list, learning_model)"
   ]
  },
  {
   "cell_type": "markdown",
   "metadata": {},
   "source": [
    "### Measuring Performance\n",
    "We will report accuracy, and the full confusion matrix.\n"
   ]
  },
  {
   "cell_type": "code",
   "execution_count": 47,
   "metadata": {},
   "outputs": [
    {
     "name": "stdout",
     "output_type": "stream",
     "text": [
      "   0 pos neg films|adapted|from|comic|books|have|had|plenty|of|success|,|whether\n",
      "   1 pos pos every|now|and|then|a|movie|comes|along|from|a|suspect|studio|,|with\n",
      "   2 pos pos you've|got|mail|works|alot|better|than|it|deserves|to|.|in|order|to|make\n",
      "   3 pos pos \"|jaws|\"|is|a|rare|film|that|grabs|your|attention|before|it|shows|you|a\n",
      "   4 pos neg moviemaking|is|a|lot|like|being|the|general|manager|of|an|nfl|team|in\n",
      "   5 pos pos on|june|30|,|1960|,|a|self-taught|,|idealistic|,|yet|pragmatic|,|young\n",
      "   6 pos pos apparently|,|director|tony|kaye|had|a|major|battle|with|new|line\n",
      "   7 pos pos one|of|my|colleagues|was|surprised|when|i|told|her|i|was|willing|to|see\n",
      "   8 pos pos after|bloody|clashes|and|independence|won|,|lumumba|refused|to|pander|to\n",
      "   9 pos pos the|american|action|film|has|been|slowly|drowning|to|death|in|a|sea|of\n",
      "  10 pos pos after|watching|\"|rat|race|\"|last|week|,|i|noticed|my|cheeks|were|sore\n",
      "  11 pos pos i've|noticed|something|lately|that|i've|never|thought|of|before|.\n"
     ]
    }
   ],
   "source": [
    "def print_first_predictions(model, te_data, feature_list, n = 12):\n",
    "    predictions = model.predict(te_data, feature_list)\n",
    "    for i in range(n):\n",
    "        document, label = te_data[i]\n",
    "        prediction = predictions[i]\n",
    "        print('%4d %s %s %s' %(\n",
    "            i, label, prediction,\n",
    "            get_document_preview(document),\n",
    "        ))\n",
    "    \n",
    "print_first_predictions(model, splits[0][1], feature_list)"
   ]
  },
  {
   "cell_type": "code",
   "execution_count": 48,
   "metadata": {},
   "outputs": [
    {
     "name": "stdout",
     "output_type": "stream",
     "text": [
      "0.8\n",
      "[[81 19]\n",
      " [21 79]]\n"
     ]
    }
   ],
   "source": [
    "labels, accuracy, confusion_matrix = model.predict(\n",
    "    splits[0][1], feature_list, get_accuracy = True, get_confusion_matrix = True\n",
    ")\n",
    "\n",
    "print(accuracy)\n",
    "print(confusion_matrix)"
   ]
  },
  {
   "cell_type": "markdown",
   "metadata": {},
   "source": [
    "### Cross-Validation Results"
   ]
  },
  {
   "cell_type": "code",
   "execution_count": 51,
   "metadata": {
    "scrolled": false
   },
   "outputs": [
    {
     "name": "stdout",
     "output_type": "stream",
     "text": [
      "Evaluating fold 1 of 10\n",
      "--> 0.8\n",
      "Evaluating fold 2 of 10\n",
      "--> 0.835\n",
      "Evaluating fold 3 of 10\n",
      "--> 0.85\n",
      "Evaluating fold 4 of 10\n",
      "--> 0.82\n",
      "Evaluating fold 5 of 10\n",
      "--> 0.835\n",
      "Evaluating fold 6 of 10\n",
      "--> 0.83\n",
      "Evaluating fold 7 of 10\n",
      "--> 0.85\n",
      "Evaluating fold 8 of 10\n",
      "--> 0.845\n",
      "Evaluating fold 9 of 10\n",
      "--> 0.785\n",
      "Evaluating fold 10 of 10\n",
      "--> 0.87\n",
      "Average Accuracy:  0.8319999999999999\n",
      "RMSE:  0.023790754506740626\n",
      "Min Accuracy:  0.785\n",
      "Max Accuracy:  0.87\n"
     ]
    }
   ],
   "source": [
    "def evaluate_model(model, splits, feature_list, learning_model, verbose = False):\n",
    "    accuracies = []\n",
    "    fold = 0\n",
    "    for tr_data, te_data in splits:\n",
    "        if verbose:\n",
    "            print('Evaluating fold %d of %d' %(fold+1, len(splits)))\n",
    "            fold += 1\n",
    "        model.train(tr_data, features=feature_list, learning_model=learning_model)\n",
    "        _, accuracy = model.predict(te_data, feature_list, get_accuracy = True)\n",
    "        accuracies.append(accuracy)\n",
    "        if verbose:\n",
    "            print('-->', accuracy)\n",
    "    n = float(len(accuracies))\n",
    "    avg = sum(accuracies) / n\n",
    "    mse = sum([(x-avg)**2 for x in accuracies]) / n\n",
    "    return (avg, mse**0.5, min(accuracies),\n",
    "            max(accuracies))\n",
    "\n",
    "# this takes about 3 minutes\n",
    "model1_avg, model1_rmse, model1_min_acc, model1_max_acc = evaluate_model(model, splits, feature_list, learning_model, verbose = True)\n",
    "print(\"Average Accuracy: \", model1_avg)\n",
    "print(\"RMSE: \", model1_rmse)\n",
    "print(\"Min Accuracy: \", model1_min_acc)\n",
    "print(\"Max Accuracy: \", model1_max_acc)"
   ]
  },
  {
   "cell_type": "markdown",
   "metadata": {},
   "source": [
    "So, the baseline approach achieves an average accuracy score of 83.2%. Let's add this to our evaluation table."
   ]
  },
  {
   "cell_type": "code",
   "execution_count": 60,
   "metadata": {},
   "outputs": [],
   "source": [
    "evaluation_df.loc[0] = ['baseline-NB-BoW-clip', 'multinb', 'bow', True, model1_avg, model1_rmse, model1_min_acc, model1_max_acc]"
   ]
  },
  {
   "cell_type": "code",
   "execution_count": 61,
   "metadata": {},
   "outputs": [
    {
     "data": {
      "text/html": [
       "<div>\n",
       "<style scoped>\n",
       "    .dataframe tbody tr th:only-of-type {\n",
       "        vertical-align: middle;\n",
       "    }\n",
       "\n",
       "    .dataframe tbody tr th {\n",
       "        vertical-align: top;\n",
       "    }\n",
       "\n",
       "    .dataframe thead th {\n",
       "        text-align: right;\n",
       "    }\n",
       "</style>\n",
       "<table border=\"1\" class=\"dataframe\">\n",
       "  <thead>\n",
       "    <tr style=\"text-align: right;\">\n",
       "      <th></th>\n",
       "      <th>name</th>\n",
       "      <th>learning_model</th>\n",
       "      <th>features</th>\n",
       "      <th>clip_counts</th>\n",
       "      <th>avg_cv_acc</th>\n",
       "      <th>rmse</th>\n",
       "      <th>min_acc</th>\n",
       "      <th>max_acc</th>\n",
       "    </tr>\n",
       "  </thead>\n",
       "  <tbody>\n",
       "    <tr>\n",
       "      <th>0</th>\n",
       "      <td>baseline-NB-BoW-clip</td>\n",
       "      <td>multinb</td>\n",
       "      <td>bow</td>\n",
       "      <td>True</td>\n",
       "      <td>0.832</td>\n",
       "      <td>0.023791</td>\n",
       "      <td>0.785</td>\n",
       "      <td>0.87</td>\n",
       "    </tr>\n",
       "  </tbody>\n",
       "</table>\n",
       "</div>"
      ],
      "text/plain": [
       "                   name learning_model features clip_counts  avg_cv_acc  \\\n",
       "0  baseline-NB-BoW-clip        multinb      bow        True       0.832   \n",
       "\n",
       "       rmse  min_acc  max_acc  \n",
       "0  0.023791    0.785     0.87  "
      ]
     },
     "execution_count": 61,
     "metadata": {},
     "output_type": "execute_result"
    }
   ],
   "source": [
    "evaluation_df"
   ]
  },
  {
   "cell_type": "markdown",
   "metadata": {},
   "source": [
    "## Comparing Models\n",
    "\n",
    "As an example of how above function can be used to compare different models, we compare the model with and without count cut-off (i.e. NB versus binary NB)."
   ]
  },
  {
   "cell_type": "code",
   "execution_count": 40,
   "metadata": {
    "scrolled": false
   },
   "outputs": [
    {
     "name": "stdout",
     "output_type": "stream",
     "text": [
      "Clip  Accuracy Stddev   Min   Max   Duration\n",
      " True    0.832  0.024  0.785 0.870  39.4 seconds  \n",
      "False    0.827  0.022  0.795 0.860  49.7 seconds  \n"
     ]
    }
   ],
   "source": [
    "print('Clip  Accuracy Stddev   Min   Max   Duration' )\n",
    "for clip in (True, False):\n",
    "    start = time.time()\n",
    "    model = PolarityPredictor(clip_counts = clip)\n",
    "    eval_results = evaluate_model(model, splits)\n",
    "    duration = time.time() - start\n",
    "    print('%5r %8.3f %6.3f  %.3f %.3f  %.1f seconds  ' %(\n",
    "        (clip,) + eval_results +\n",
    "        (duration,)\n",
    "    ))"
   ]
  },
  {
   "cell_type": "markdown",
   "metadata": {},
   "source": [
    "## 2. Baseline (clip_counts = False)"
   ]
  },
  {
   "cell_type": "code",
   "execution_count": 55,
   "metadata": {},
   "outputs": [],
   "source": [
    "model = PolarityPredictor(clip_counts=False)\n",
    "feature_list = ['bow']\n",
    "learning_model = 'multinb'"
   ]
  },
  {
   "cell_type": "code",
   "execution_count": 56,
   "metadata": {
    "scrolled": false
   },
   "outputs": [
    {
     "name": "stdout",
     "output_type": "stream",
     "text": [
      "Evaluating fold 1 of 10\n",
      "--> 0.795\n",
      "Evaluating fold 2 of 10\n",
      "--> 0.81\n",
      "Evaluating fold 3 of 10\n",
      "--> 0.855\n",
      "Evaluating fold 4 of 10\n",
      "--> 0.815\n",
      "Evaluating fold 5 of 10\n",
      "--> 0.83\n",
      "Evaluating fold 6 of 10\n",
      "--> 0.845\n",
      "Evaluating fold 7 of 10\n",
      "--> 0.86\n",
      "Evaluating fold 8 of 10\n",
      "--> 0.83\n",
      "Evaluating fold 9 of 10\n",
      "--> 0.795\n",
      "Evaluating fold 10 of 10\n",
      "--> 0.835\n",
      "Average Accuracy:  0.827\n",
      "RMSE:  0.021817424229271406\n",
      "Min Accuracy:  0.795\n",
      "Max Accuracy:  0.86\n"
     ]
    }
   ],
   "source": [
    "model2_avg, model2_rmse, model2_min_acc, model2_max_acc = evaluate_model(model, splits, feature_list, learning_model, verbose = True)\n",
    "\n",
    "print(\"Average Accuracy: \", model2_avg)\n",
    "print(\"RMSE: \", model2_rmse)\n",
    "print(\"Min Accuracy: \", model2_min_acc)\n",
    "print(\"Max Accuracy: \", model2_max_acc)"
   ]
  },
  {
   "cell_type": "markdown",
   "metadata": {},
   "source": [
    "Without clipping the counts, the accuracy of the model actually worsens slightly. Let's add this to our evaluation table."
   ]
  },
  {
   "cell_type": "code",
   "execution_count": 62,
   "metadata": {},
   "outputs": [],
   "source": [
    "evaluation_df.loc[evaluation_df.index.max() + 1] = ['baseline-NB-BoW', 'multinb', 'bow', False, model2_avg, model2_rmse, model2_min_acc, model2_max_acc]"
   ]
  },
  {
   "cell_type": "code",
   "execution_count": 63,
   "metadata": {},
   "outputs": [
    {
     "data": {
      "text/html": [
       "<div>\n",
       "<style scoped>\n",
       "    .dataframe tbody tr th:only-of-type {\n",
       "        vertical-align: middle;\n",
       "    }\n",
       "\n",
       "    .dataframe tbody tr th {\n",
       "        vertical-align: top;\n",
       "    }\n",
       "\n",
       "    .dataframe thead th {\n",
       "        text-align: right;\n",
       "    }\n",
       "</style>\n",
       "<table border=\"1\" class=\"dataframe\">\n",
       "  <thead>\n",
       "    <tr style=\"text-align: right;\">\n",
       "      <th></th>\n",
       "      <th>name</th>\n",
       "      <th>learning_model</th>\n",
       "      <th>features</th>\n",
       "      <th>clip_counts</th>\n",
       "      <th>avg_cv_acc</th>\n",
       "      <th>rmse</th>\n",
       "      <th>min_acc</th>\n",
       "      <th>max_acc</th>\n",
       "    </tr>\n",
       "  </thead>\n",
       "  <tbody>\n",
       "    <tr>\n",
       "      <th>0</th>\n",
       "      <td>baseline-NB-BoW-clip</td>\n",
       "      <td>multinb</td>\n",
       "      <td>bow</td>\n",
       "      <td>True</td>\n",
       "      <td>0.832</td>\n",
       "      <td>0.023791</td>\n",
       "      <td>0.785</td>\n",
       "      <td>0.87</td>\n",
       "    </tr>\n",
       "    <tr>\n",
       "      <th>1</th>\n",
       "      <td>baseline-NB-BoW</td>\n",
       "      <td>multinb</td>\n",
       "      <td>bow</td>\n",
       "      <td>False</td>\n",
       "      <td>0.827</td>\n",
       "      <td>0.021817</td>\n",
       "      <td>0.795</td>\n",
       "      <td>0.86</td>\n",
       "    </tr>\n",
       "  </tbody>\n",
       "</table>\n",
       "</div>"
      ],
      "text/plain": [
       "                   name learning_model features clip_counts  avg_cv_acc  \\\n",
       "0  baseline-NB-BoW-clip        multinb      bow        True       0.832   \n",
       "1       baseline-NB-BoW        multinb      bow       False       0.827   \n",
       "\n",
       "       rmse  min_acc  max_acc  \n",
       "0  0.023791    0.785     0.87  \n",
       "1  0.021817    0.795     0.86  "
      ]
     },
     "execution_count": 63,
     "metadata": {},
     "output_type": "execute_result"
    }
   ],
   "source": [
    "evaluation_df"
   ]
  },
  {
   "cell_type": "markdown",
   "metadata": {},
   "source": [
    "## 3. Bag-of-Bigrams NB"
   ]
  },
  {
   "cell_type": "code",
   "execution_count": 64,
   "metadata": {},
   "outputs": [],
   "source": [
    "model = PolarityPredictor()\n",
    "feature_list = ['bob']\n",
    "learning_model = 'multinb'"
   ]
  },
  {
   "cell_type": "code",
   "execution_count": 65,
   "metadata": {
    "scrolled": false
   },
   "outputs": [
    {
     "name": "stdout",
     "output_type": "stream",
     "text": [
      "Evaluating fold 1 of 10\n",
      "--> 0.815\n",
      "Evaluating fold 2 of 10\n",
      "--> 0.88\n",
      "Evaluating fold 3 of 10\n",
      "--> 0.855\n",
      "Evaluating fold 4 of 10\n"
     ]
    },
    {
     "ename": "MemoryError",
     "evalue": "Unable to allocate 5.76 GiB for an array with shape (1800, 429743) and data type float64",
     "output_type": "error",
     "traceback": [
      "\u001b[1;31m---------------------------------------------------------------------------\u001b[0m",
      "\u001b[1;31mMemoryError\u001b[0m                               Traceback (most recent call last)",
      "\u001b[1;32m<ipython-input-65-16533c78ac3c>\u001b[0m in \u001b[0;36m<module>\u001b[1;34m\u001b[0m\n\u001b[1;32m----> 1\u001b[1;33m \u001b[0mmodel3_avg\u001b[0m\u001b[1;33m,\u001b[0m \u001b[0mmodel3_rmse\u001b[0m\u001b[1;33m,\u001b[0m \u001b[0mmodel3_min_acc\u001b[0m\u001b[1;33m,\u001b[0m \u001b[0mmodel3_max_acc\u001b[0m \u001b[1;33m=\u001b[0m \u001b[0mevaluate_model\u001b[0m\u001b[1;33m(\u001b[0m\u001b[0mmodel\u001b[0m\u001b[1;33m,\u001b[0m \u001b[0msplits\u001b[0m\u001b[1;33m,\u001b[0m \u001b[0mfeature_list\u001b[0m\u001b[1;33m,\u001b[0m \u001b[0mlearning_model\u001b[0m\u001b[1;33m,\u001b[0m \u001b[0mverbose\u001b[0m \u001b[1;33m=\u001b[0m \u001b[1;32mTrue\u001b[0m\u001b[1;33m)\u001b[0m\u001b[1;33m\u001b[0m\u001b[1;33m\u001b[0m\u001b[0m\n\u001b[0m\u001b[0;32m      2\u001b[0m \u001b[1;33m\u001b[0m\u001b[0m\n\u001b[0;32m      3\u001b[0m \u001b[0mprint\u001b[0m\u001b[1;33m(\u001b[0m\u001b[1;34m\"Average Accuracy: \"\u001b[0m\u001b[1;33m,\u001b[0m \u001b[0mmodel3_avg\u001b[0m\u001b[1;33m)\u001b[0m\u001b[1;33m\u001b[0m\u001b[1;33m\u001b[0m\u001b[0m\n\u001b[0;32m      4\u001b[0m \u001b[0mprint\u001b[0m\u001b[1;33m(\u001b[0m\u001b[1;34m\"RMSE: \"\u001b[0m\u001b[1;33m,\u001b[0m \u001b[0mmodel3_rmse\u001b[0m\u001b[1;33m)\u001b[0m\u001b[1;33m\u001b[0m\u001b[1;33m\u001b[0m\u001b[0m\n\u001b[0;32m      5\u001b[0m \u001b[0mprint\u001b[0m\u001b[1;33m(\u001b[0m\u001b[1;34m\"Min Accuracy: \"\u001b[0m\u001b[1;33m,\u001b[0m \u001b[0mmodel3_min_acc\u001b[0m\u001b[1;33m)\u001b[0m\u001b[1;33m\u001b[0m\u001b[1;33m\u001b[0m\u001b[0m\n",
      "\u001b[1;32m<ipython-input-51-18ab22c9ab1b>\u001b[0m in \u001b[0;36mevaluate_model\u001b[1;34m(model, splits, feature_list, learning_model, verbose)\u001b[0m\n\u001b[0;32m      6\u001b[0m             \u001b[0mprint\u001b[0m\u001b[1;33m(\u001b[0m\u001b[1;34m'Evaluating fold %d of %d'\u001b[0m \u001b[1;33m%\u001b[0m\u001b[1;33m(\u001b[0m\u001b[0mfold\u001b[0m\u001b[1;33m+\u001b[0m\u001b[1;36m1\u001b[0m\u001b[1;33m,\u001b[0m \u001b[0mlen\u001b[0m\u001b[1;33m(\u001b[0m\u001b[0msplits\u001b[0m\u001b[1;33m)\u001b[0m\u001b[1;33m)\u001b[0m\u001b[1;33m)\u001b[0m\u001b[1;33m\u001b[0m\u001b[1;33m\u001b[0m\u001b[0m\n\u001b[0;32m      7\u001b[0m             \u001b[0mfold\u001b[0m \u001b[1;33m+=\u001b[0m \u001b[1;36m1\u001b[0m\u001b[1;33m\u001b[0m\u001b[1;33m\u001b[0m\u001b[0m\n\u001b[1;32m----> 8\u001b[1;33m         \u001b[0mmodel\u001b[0m\u001b[1;33m.\u001b[0m\u001b[0mtrain\u001b[0m\u001b[1;33m(\u001b[0m\u001b[0mtr_data\u001b[0m\u001b[1;33m,\u001b[0m \u001b[0mfeatures\u001b[0m\u001b[1;33m=\u001b[0m\u001b[0mfeature_list\u001b[0m\u001b[1;33m,\u001b[0m \u001b[0mlearning_model\u001b[0m\u001b[1;33m=\u001b[0m\u001b[0mlearning_model\u001b[0m\u001b[1;33m)\u001b[0m\u001b[1;33m\u001b[0m\u001b[1;33m\u001b[0m\u001b[0m\n\u001b[0m\u001b[0;32m      9\u001b[0m         \u001b[0m_\u001b[0m\u001b[1;33m,\u001b[0m \u001b[0maccuracy\u001b[0m \u001b[1;33m=\u001b[0m \u001b[0mmodel\u001b[0m\u001b[1;33m.\u001b[0m\u001b[0mpredict\u001b[0m\u001b[1;33m(\u001b[0m\u001b[0mte_data\u001b[0m\u001b[1;33m,\u001b[0m \u001b[0mfeature_list\u001b[0m\u001b[1;33m,\u001b[0m \u001b[0mget_accuracy\u001b[0m \u001b[1;33m=\u001b[0m \u001b[1;32mTrue\u001b[0m\u001b[1;33m)\u001b[0m\u001b[1;33m\u001b[0m\u001b[1;33m\u001b[0m\u001b[0m\n\u001b[0;32m     10\u001b[0m         \u001b[0maccuracies\u001b[0m\u001b[1;33m.\u001b[0m\u001b[0mappend\u001b[0m\u001b[1;33m(\u001b[0m\u001b[0maccuracy\u001b[0m\u001b[1;33m)\u001b[0m\u001b[1;33m\u001b[0m\u001b[1;33m\u001b[0m\u001b[0m\n",
      "\u001b[1;32m<ipython-input-31-a9429ebfbf25>\u001b[0m in \u001b[0;36mtrain\u001b[1;34m(self, data_with_labels, features, learning_model)\u001b[0m\n\u001b[0;32m     14\u001b[0m \u001b[1;33m\u001b[0m\u001b[0m\n\u001b[0;32m     15\u001b[0m         \u001b[0mself\u001b[0m\u001b[1;33m.\u001b[0m\u001b[0mfinalise_vocab\u001b[0m\u001b[1;33m(\u001b[0m\u001b[0mfeatures\u001b[0m\u001b[1;33m)\u001b[0m\u001b[1;33m\u001b[0m\u001b[1;33m\u001b[0m\u001b[0m\n\u001b[1;32m---> 16\u001b[1;33m         tr_features = self.extract_features(\n\u001b[0m\u001b[0;32m     17\u001b[0m             \u001b[0mdata_with_labels\u001b[0m\u001b[1;33m,\u001b[0m \u001b[0mfeatures\u001b[0m\u001b[1;33m\u001b[0m\u001b[1;33m\u001b[0m\u001b[0m\n\u001b[0;32m     18\u001b[0m         )\n",
      "\u001b[1;32m<ipython-input-32-7dba5e62ea91>\u001b[0m in \u001b[0;36mextract_features\u001b[1;34m(self, data, feature_list)\u001b[0m\n\u001b[0;32m     59\u001b[0m         \u001b[0mdenom\u001b[0m \u001b[1;33m=\u001b[0m \u001b[0mmaster_matrix\u001b[0m\u001b[1;33m.\u001b[0m\u001b[0mmax\u001b[0m\u001b[1;33m(\u001b[0m\u001b[0maxis\u001b[0m\u001b[1;33m=\u001b[0m\u001b[1;36m0\u001b[0m\u001b[1;33m)\u001b[0m \u001b[1;33m-\u001b[0m \u001b[0mmaster_matrix\u001b[0m\u001b[1;33m.\u001b[0m\u001b[0mmin\u001b[0m\u001b[1;33m(\u001b[0m\u001b[0maxis\u001b[0m\u001b[1;33m=\u001b[0m\u001b[1;36m0\u001b[0m\u001b[1;33m)\u001b[0m\u001b[1;33m\u001b[0m\u001b[1;33m\u001b[0m\u001b[0m\n\u001b[0;32m     60\u001b[0m         \u001b[0mdenom\u001b[0m\u001b[1;33m[\u001b[0m\u001b[0mdenom\u001b[0m\u001b[1;33m==\u001b[0m\u001b[1;36m0\u001b[0m\u001b[1;33m]\u001b[0m \u001b[1;33m=\u001b[0m \u001b[1;36m1\u001b[0m\u001b[1;33m\u001b[0m\u001b[1;33m\u001b[0m\u001b[0m\n\u001b[1;32m---> 61\u001b[1;33m         \u001b[0mmaster_matrix\u001b[0m \u001b[1;33m=\u001b[0m \u001b[1;36m0\u001b[0m \u001b[1;33m+\u001b[0m \u001b[0mnom\u001b[0m \u001b[1;33m/\u001b[0m \u001b[0mdenom\u001b[0m\u001b[1;33m\u001b[0m\u001b[1;33m\u001b[0m\u001b[0m\n\u001b[0m\u001b[0;32m     62\u001b[0m \u001b[1;33m\u001b[0m\u001b[0m\n\u001b[0;32m     63\u001b[0m         \u001b[1;32mreturn\u001b[0m \u001b[0mmaster_matrix\u001b[0m\u001b[1;33m\u001b[0m\u001b[1;33m\u001b[0m\u001b[0m\n",
      "\u001b[1;31mMemoryError\u001b[0m: Unable to allocate 5.76 GiB for an array with shape (1800, 429743) and data type float64"
     ]
    }
   ],
   "source": [
    "model3_avg, model3_rmse, model3_min_acc, model3_max_acc = evaluate_model(model, splits, feature_list, learning_model, verbose = True)\n",
    "\n",
    "print(\"Average Accuracy: \", model3_avg)\n",
    "print(\"RMSE: \", model3_rmse)\n",
    "print(\"Min Accuracy: \", model3_min_acc)\n",
    "print(\"Max Accuracy: \", model3_max_acc)"
   ]
  },
  {
   "cell_type": "markdown",
   "metadata": {},
   "source": [
    "Without clipping the counts, the accuracy of the model actually worsens slightly. Let's add this to our evaluation table."
   ]
  },
  {
   "cell_type": "code",
   "execution_count": 62,
   "metadata": {},
   "outputs": [],
   "source": [
    "evaluation_df.loc[evaluation_df.index.max() + 1] = ['baseline-NB-BoW', 'multinb', 'bow', False, model2_avg, model2_rmse, model2_min_acc, model2_max_acc]"
   ]
  },
  {
   "cell_type": "code",
   "execution_count": 63,
   "metadata": {},
   "outputs": [
    {
     "data": {
      "text/html": [
       "<div>\n",
       "<style scoped>\n",
       "    .dataframe tbody tr th:only-of-type {\n",
       "        vertical-align: middle;\n",
       "    }\n",
       "\n",
       "    .dataframe tbody tr th {\n",
       "        vertical-align: top;\n",
       "    }\n",
       "\n",
       "    .dataframe thead th {\n",
       "        text-align: right;\n",
       "    }\n",
       "</style>\n",
       "<table border=\"1\" class=\"dataframe\">\n",
       "  <thead>\n",
       "    <tr style=\"text-align: right;\">\n",
       "      <th></th>\n",
       "      <th>name</th>\n",
       "      <th>learning_model</th>\n",
       "      <th>features</th>\n",
       "      <th>clip_counts</th>\n",
       "      <th>avg_cv_acc</th>\n",
       "      <th>rmse</th>\n",
       "      <th>min_acc</th>\n",
       "      <th>max_acc</th>\n",
       "    </tr>\n",
       "  </thead>\n",
       "  <tbody>\n",
       "    <tr>\n",
       "      <th>0</th>\n",
       "      <td>baseline-NB-BoW-clip</td>\n",
       "      <td>multinb</td>\n",
       "      <td>bow</td>\n",
       "      <td>True</td>\n",
       "      <td>0.832</td>\n",
       "      <td>0.023791</td>\n",
       "      <td>0.785</td>\n",
       "      <td>0.87</td>\n",
       "    </tr>\n",
       "    <tr>\n",
       "      <th>1</th>\n",
       "      <td>baseline-NB-BoW</td>\n",
       "      <td>multinb</td>\n",
       "      <td>bow</td>\n",
       "      <td>False</td>\n",
       "      <td>0.827</td>\n",
       "      <td>0.021817</td>\n",
       "      <td>0.795</td>\n",
       "      <td>0.86</td>\n",
       "    </tr>\n",
       "  </tbody>\n",
       "</table>\n",
       "</div>"
      ],
      "text/plain": [
       "                   name learning_model features clip_counts  avg_cv_acc  \\\n",
       "0  baseline-NB-BoW-clip        multinb      bow        True       0.832   \n",
       "1       baseline-NB-BoW        multinb      bow       False       0.827   \n",
       "\n",
       "       rmse  min_acc  max_acc  \n",
       "0  0.023791    0.785     0.87  \n",
       "1  0.021817    0.795     0.86  "
      ]
     },
     "execution_count": 63,
     "metadata": {},
     "output_type": "execute_result"
    }
   ],
   "source": [
    "evaluation_df"
   ]
  }
 ],
 "metadata": {
  "kernelspec": {
   "display_name": "Python 3",
   "language": "python",
   "name": "python3"
  },
  "language_info": {
   "codemirror_mode": {
    "name": "ipython",
    "version": 3
   },
   "file_extension": ".py",
   "mimetype": "text/x-python",
   "name": "python",
   "nbconvert_exporter": "python",
   "pygments_lexer": "ipython3",
   "version": "3.8.5"
  }
 },
 "nbformat": 4,
 "nbformat_minor": 5
}
