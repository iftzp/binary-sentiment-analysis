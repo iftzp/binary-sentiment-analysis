{
 "cells": [
  {
   "cell_type": "markdown",
   "metadata": {},
   "source": [
    "# Sentiment Polarity Prediction with Naive Bayes\n",
    "\n",
    "This notebook contains a basic implementation of document-level sentiment analysis\n",
    "for movie reviews with multinomial Naive Bayes and bag-of-words features\n",
    "and of cross-validation.\n",
    "* No special treatment of rare or unknown words. Unknown words in the test data are skipped.\n",
    "\n",
    "We use the movie review polarity data set of Pang and Lee 2004 [A Sentimental Education: Sentiment Analysis Using Subjectivity Summarization Based on Minimum Cuts](https://www.aclweb.org/anthology/P04-1035/) in Version 2.0 available from http://www.cs.cornell.edu/People/pabo/movie-review-data (section \"Sentiment polarity datasets\"). This dataset contains 1000 positive and 1000 negative reviews, each tokenised, sentence-split (one sentence per line) and lowercased. Each review has been assigned to 1 of 10 cross-validation folds by the authors and this setup should be followed to compare with published results.\n"
   ]
  },
  {
   "cell_type": "code",
   "execution_count": 21,
   "metadata": {},
   "outputs": [
    {
     "name": "stderr",
     "output_type": "stream",
     "text": [
      "[nltk_data] Downloading package averaged_perceptron_tagger to\n",
      "[nltk_data]     /Users/ivan/nltk_data...\n",
      "[nltk_data]   Package averaged_perceptron_tagger is already up-to-\n",
      "[nltk_data]       date!\n",
      "[nltk_data] Downloading package stopwords to /Users/ivan/nltk_data...\n",
      "[nltk_data]   Package stopwords is already up-to-date!\n",
      "[nltk_data] Downloading package wordnet to /Users/ivan/nltk_data...\n",
      "[nltk_data]   Package wordnet is already up-to-date!\n"
     ]
    }
   ],
   "source": [
    "import os\n",
    "import tarfile\n",
    "import time\n",
    "import urllib.request\n",
    "import numpy\n",
    "import pandas as pd\n",
    "from sklearn.naive_bayes import MultinomialNB\n",
    "from sklearn import metrics\n",
    "import nltk\n",
    "import matplotlib.pyplot as plt\n",
    "\n",
    "nltk.download('averaged_perceptron_tagger')\n",
    "nltk.download('stopwords')\n",
    "nltk.download('wordnet')\n",
    "\n",
    "data_source = 'local-folder'\n",
    "data_folder = os.path.join('data', 'txt_sentoken')"
   ]
  },
  {
   "cell_type": "code",
   "execution_count": 22,
   "metadata": {},
   "outputs": [],
   "source": [
    "class PL04DataLoader_Part_1:\n",
    "    \n",
    "    def __init__(self):\n",
    "        pass\n",
    "    \n",
    "    def get_labelled_dataset(self, fold = 0):\n",
    "        ''' Compile a fold of the data set\n",
    "        '''\n",
    "        dataset = []\n",
    "        for label in ('pos', 'neg'):\n",
    "            for document in self.get_documents(\n",
    "                fold = fold,\n",
    "                label = label,\n",
    "            ):\n",
    "                dataset.append((document, label))\n",
    "        return dataset\n",
    "    \n",
    "    def get_documents(self, fold = 0, label = 'pos'):\n",
    "        ''' Enumerate the raw contents of all data set files.\n",
    "            Args:\n",
    "                data_dir: relative or absolute path to the data set folder\n",
    "                fold: which fold to load (0 to n_folds-1)\n",
    "                label: 'pos' or 'neg' to\n",
    "                    select data with positive or negative sentiment\n",
    "                    polarity\n",
    "            Return:\n",
    "                List of tokenised documents, each a list of sentences\n",
    "                that in turn are lists of tokens\n",
    "        '''\n",
    "        raise NotImplementedError"
   ]
  },
  {
   "cell_type": "code",
   "execution_count": 23,
   "metadata": {},
   "outputs": [],
   "source": [
    "class PL04DataLoader(PL04DataLoader_Part_1):\n",
    "    \n",
    "    def get_xval_splits(self):\n",
    "        ''' Split data with labels for cross-validation\n",
    "            returns a list of k pairs (training_data, test_data)\n",
    "            for k cross-validation\n",
    "        '''\n",
    "        # load the folds\n",
    "        folds = []\n",
    "        for i in range(10):\n",
    "            folds.append(self.get_labelled_dataset(\n",
    "                fold = i\n",
    "            ))\n",
    "        # create training-test splits\n",
    "        retval = []\n",
    "        for i in range(10):\n",
    "            test_data = folds[i]\n",
    "            training_data = []\n",
    "            for j in range(9):\n",
    "                ij1 = (i+j+1) % 10\n",
    "                assert ij1 != i\n",
    "                training_data = training_data + folds[ij1]\n",
    "            retval.append((training_data, test_data))\n",
    "        return retval"
   ]
  },
  {
   "cell_type": "code",
   "execution_count": 24,
   "metadata": {},
   "outputs": [],
   "source": [
    "class PL04DataLoaderFromStream(PL04DataLoader):\n",
    "        \n",
    "    def __init__(self, tgz_stream, **kwargs):\n",
    "        super().__init__(**kwargs)\n",
    "        self.data = {}\n",
    "        counter = 0\n",
    "        with tarfile.open(\n",
    "            mode = 'r|gz',\n",
    "            fileobj = tgz_stream\n",
    "        ) as tar_archive:\n",
    "            for tar_member in tar_archive:\n",
    "                if counter == 2000:\n",
    "                    break\n",
    "                path_components = tar_member.name.split('/')\n",
    "                filename = path_components[-1]\n",
    "                if filename.startswith('cv') \\\n",
    "                and filename.endswith('.txt') \\\n",
    "                and '_' in filename:\n",
    "                    label = path_components[-2]\n",
    "                    fold = int(filename[2])\n",
    "                    key = (fold, label)\n",
    "                    if key not in self.data:\n",
    "                        self.data[key] = []\n",
    "                    f = tar_archive.extractfile(tar_member)\n",
    "                    document = [\n",
    "                        line.decode('utf-8').split()\n",
    "                        for line in f.readlines()\n",
    "                    ]\n",
    "                    self.data[key].append(document)\n",
    "                    counter += 1\n",
    "            \n",
    "    def get_documents(self, fold = 0, label = 'pos'):\n",
    "        return self.data[(fold, label)]"
   ]
  },
  {
   "cell_type": "markdown",
   "metadata": {},
   "source": [
    "## Read Data from the Web\n",
    "This should run efficiently both on google colab and locally but has the disadvantage that the same data is downloaded each time the notebook is run."
   ]
  },
  {
   "cell_type": "code",
   "execution_count": 25,
   "metadata": {},
   "outputs": [],
   "source": [
    "class PL04DataLoaderFromURL(PL04DataLoaderFromStream):\n",
    "    \n",
    "    def __init__(self, data_url, **kwargs):\n",
    "        with urllib.request.urlopen(data_url) as tgz_stream:\n",
    "            super().__init__(tgz_stream, **kwargs)"
   ]
  },
  {
   "cell_type": "markdown",
   "metadata": {},
   "source": [
    "## Read Data from a Local .tgz File\n",
    "\n",
    "You manually download the .tgz once to a filesystem that can be accessed from the notebook, e.g. google drive on colab, and this notebook reads this file in one chunk. \n",
    "\n",
    "Note that if you are accessing files from google drive on colab, you will need to mount your drive and enter an authentication token:\n",
    "\n",
    "```\n",
    "from google.colab import drive\n",
    "drive.mount('/content/drive')\n",
    "```\n",
    "\n",
    "You will also have to change your *data_tgz* or *data_folder* paths above so that they start with *'/content/drive/My Drive/'*"
   ]
  },
  {
   "cell_type": "code",
   "execution_count": 26,
   "metadata": {},
   "outputs": [],
   "source": [
    "class PL04DataLoaderFromTGZ(PL04DataLoaderFromStream):\n",
    "    \n",
    "    def __init__(self, data_path, **kwargs):\n",
    "        with open(data_path, 'rb') as tgz_stream:\n",
    "            super().__init__(tgz_stream, **kwargs)"
   ]
  },
  {
   "cell_type": "markdown",
   "metadata": {},
   "source": [
    "## Read Data from a Local Folder\n",
    "\n",
    "Extract the .tgz to a local folder and only load the required files. This is usually the fastest option when storage is on a local SSD. On remote filesystems, however, this can be very slow."
   ]
  },
  {
   "cell_type": "code",
   "execution_count": 27,
   "metadata": {},
   "outputs": [],
   "source": [
    "class PL04DataLoaderFromFolder(PL04DataLoader):\n",
    "    \n",
    "    def __init__(self, data_dir, **kwargs):\n",
    "        self.data_dir = data_dir\n",
    "        super().__init__(**kwargs)\n",
    "        \n",
    "    def get_documents(self, fold = 0, label = 'pos'):\n",
    "        # read folder contents\n",
    "        path = os.path.join(self.data_dir, label)\n",
    "        dir_entries = os.listdir(path)\n",
    "        # must process entries in numeric order to\n",
    "        # replicate order of original experiments\n",
    "        dir_entries.sort()\n",
    "        # check each entry and add to data if matching\n",
    "        # selection criteria\n",
    "        for filename in dir_entries:\n",
    "            if filename.startswith('cv') \\\n",
    "            and filename.endswith('.txt'):\n",
    "                if fold == int(filename[2]):\n",
    "                    # correct fold\n",
    "                    f = open(os.path.join(path, filename), 'rt')\n",
    "                    # \"yield\" tells Python to return an iterator\n",
    "                    # object that produces the yields of this\n",
    "                    # function as elements without creating a\n",
    "                    # full list of all elements\n",
    "                    yield [line.split() for line in f.readlines()]\n",
    "                    f.close()"
   ]
  },
  {
   "cell_type": "code",
   "execution_count": 28,
   "metadata": {},
   "outputs": [],
   "source": [
    "if data_source == 'local-folder':\n",
    "    data_loader = PL04DataLoaderFromFolder(data_folder)\n",
    "elif data_source == 'local-tgz':\n",
    "    data_loader = PL04DataLoaderFromTGZ(data_tgz)\n",
    "elif data_source == 'web':\n",
    "    data_loader = PL04DataLoaderFromURL(data_url)\n",
    "else:\n",
    "    raise ValueError('Unsupported data source %r' %data_source)"
   ]
  },
  {
   "cell_type": "code",
   "execution_count": 29,
   "metadata": {},
   "outputs": [
    {
     "name": "stdout",
     "output_type": "stream",
     "text": [
      "== pos ==\n",
      "doc sentences start of first sentence\n",
      "  0      25   films|adapted|from|comic|books|have|had|plenty|of|success|,|whether\n",
      "  1      39   every|now|and|then|a|movie|comes|along|from|a|suspect|studio|,|with\n",
      "  2      19   you've|got|mail|works|alot|better|than|it|deserves|to|.|in|order|to|make\n",
      "  3      42   \"|jaws|\"|is|a|rare|film|that|grabs|your|attention|before|it|shows|you|a\n",
      "  4      25   moviemaking|is|a|lot|like|being|the|general|manager|of|an|nfl|team|in\n",
      "== neg ==\n",
      "doc sentences start of first sentence\n",
      "  0      35   plot|:|two|teen|couples|go|to|a|church|party|,|drink|and|then|drive|.\n",
      "  1      13   the|happy|bastard's|quick|movie|review|damn|that|y2k|bug|.|it's|got|a\n",
      "  2      23   it|is|movies|like|these|that|make|a|jaded|movie|viewer|thankful|for|the\n",
      "  3      19   \"|quest|for|camelot|\"|is|warner|bros|.|'|first|feature-length|,\n",
      "  4      37   synopsis|:|a|mentally|unstable|man|undergoing|psychotherapy|saves|a|boy\n"
     ]
    }
   ],
   "source": [
    "def get_document_preview(document, max_length = 72):\n",
    "    s = []\n",
    "    count = 0\n",
    "    reached_limit = False\n",
    "    for sentence in document:\n",
    "        for token in sentence:\n",
    "            if count + len(token) + len(s) > max_length:\n",
    "                reached_limit = True\n",
    "                break\n",
    "            s.append(token)\n",
    "            count += len(token)\n",
    "        if reached_limit:\n",
    "            break\n",
    "    return '|'.join(s)\n",
    "    \n",
    "for label in 'pos neg'.split():\n",
    "    print(f'== {label} ==')\n",
    "    print('doc sentences start of first sentence')\n",
    "    for index, document in enumerate(data_loader.get_documents(\n",
    "        label = label\n",
    "    )):\n",
    "        print('%3d %7d   %s' %(\n",
    "            index, len(document), get_document_preview(document)\n",
    "        ))\n",
    "        if index == 4:\n",
    "            break"
   ]
  },
  {
   "cell_type": "markdown",
   "metadata": {},
   "source": [
    "## Create Training-Test Splits for Cross-Validation"
   ]
  },
  {
   "cell_type": "code",
   "execution_count": 30,
   "metadata": {},
   "outputs": [
    {
     "name": "stdout",
     "output_type": "stream",
     "text": [
      "tr-size te-size (number of documents)\n",
      "   1800     200\n",
      "   1800     200\n",
      "   1800     200\n",
      "   1800     200\n",
      "   1800     200\n",
      "   1800     200\n",
      "   1800     200\n",
      "   1800     200\n",
      "   1800     200\n",
      "   1800     200\n"
     ]
    }
   ],
   "source": [
    "splits = data_loader.get_xval_splits()\n",
    "\n",
    "print('tr-size te-size (number of documents)')\n",
    "for xval_tr_data, xval_te_data in splits:\n",
    "    print('%7d %7d' %(len(xval_tr_data), len(xval_te_data)))"
   ]
  },
  {
   "cell_type": "markdown",
   "metadata": {},
   "source": [
    "## Interface for Sentiment Polarity Predictor\n",
    "Let's define a base class to clarify how we plan to use polarity predictors. Its functions will have to be implemented in sub-classes."
   ]
  },
  {
   "cell_type": "code",
   "execution_count": 31,
   "metadata": {},
   "outputs": [],
   "source": [
    "class PolarityPredictorInterface:\n",
    "\n",
    "    def train(self, data_with_labels):\n",
    "        raise NotImplementedError\n",
    "        \n",
    "    def predict(self, data):\n",
    "        raise NotImplementedError"
   ]
  },
  {
   "cell_type": "code",
   "execution_count": 32,
   "metadata": {},
   "outputs": [],
   "source": [
    "class PolarityPredictorInit(PolarityPredictorInterface):\n",
    "    \n",
    "    def train(self, data_with_labels, feature):\n",
    "        \"\"\"\n",
    "        Function which trains model.\n",
    "        \n",
    "        Lemmatisation, Negation and Removal of stopwords are performed on the data first.\n",
    "        \n",
    "        Then the feature matrix is created using extract_features function.\n",
    "        \n",
    "        This will be based on bag of unigrams, bigrams or trigrams depending on input.\n",
    "        \n",
    "        The targets are then fetched and passed to the learning model for training.\n",
    "        \"\"\"\n",
    "\n",
    "        # Initialise ngram set objects\n",
    "        self.reset_feature_sets()\n",
    "\n",
    "        if self.lemmatise:\n",
    "            \"\"\"\n",
    "            Get Penn POS tags\n",
    "            Convert to WordNet POS tags and retrieve lemma\n",
    "            Reset data\n",
    "            \"\"\"\n",
    "            tagged_data = self.get_pos_tags(data_with_labels)\n",
    "            lemmatised_data = self.lemmatise_data(tagged_data)\n",
    "            data_with_labels = lemmatised_data\n",
    "        \n",
    "        if self.negation:\n",
    "            \"\"\"\n",
    "            'NOT_' is added to tokens which are negated.\n",
    "            \"\"\"\n",
    "            self.add_negation_to_data(data_with_labels)\n",
    "            \n",
    "        if self.remove_stopwords:\n",
    "            \"\"\"\n",
    "            Stopwords are retrieved from NLTK library and are removed if found in the data.\n",
    "            \"\"\"\n",
    "            self.get_stopwords()\n",
    "            self.remove_stopwords_from_data(data_with_labels)\n",
    "            \n",
    "            \n",
    "        self.add_to_feature_sets_from_data(data_with_labels)\n",
    "        self.finalise_feature_sets()\n",
    "        \n",
    "        tr_features = self.extract_features(data_with_labels, feature)\n",
    "        \n",
    "        if self.additional_features:\n",
    "            \"\"\"\n",
    "            Additional features: (for each document)\n",
    "            Positive sentiment lexicon counts \n",
    "            Negative sentiment lexicon counts\n",
    "            Negated word counts\n",
    "            Added as columns to existing feature matrix\n",
    "            \"\"\"\n",
    "            self.get_sentiment_lexicons()\n",
    "            tr_features = self.add_additional_features(data_with_labels, tr_features, self.negation)\n",
    "            \n",
    "        tr_targets = self.get_targets(data_with_labels)\n",
    "        self.train_model_on_features(tr_features, tr_targets)\n",
    "\n",
    "    def reset_feature_sets(self):\n",
    "        self.unigrams = set()\n",
    "        self.bigrams = set()\n",
    "        self.trigrams = set()\n",
    "    \n",
    "    def get_pos_tags(self, data):\n",
    "        tagged_data = []\n",
    "        for document, label in data:\n",
    "            new_document = []\n",
    "            for sentence in document:\n",
    "                tagged_sentence = nltk.pos_tag(sentence)\n",
    "                new_document.append(tagged_sentence)\n",
    "            new_entry = (new_document, label)\n",
    "            tagged_data.append(new_entry)\n",
    "        return tagged_data\n",
    "\n",
    "    def lemmatise_data(self, data):\n",
    "        \"\"\"\n",
    "        POS has been retieved as in Penn form\n",
    "        We convert to WordNet form by taking first letter of Penn POS\n",
    "        \"\"\"\n",
    "        lemmatizer = nltk.stem.WordNetLemmatizer()\n",
    "        for document, label in data:\n",
    "            for sentence in document:\n",
    "                for index, token in enumerate(sentence):\n",
    "                    word = token[0]\n",
    "                    penn_pos = token[1]\n",
    "                    if penn_pos[0] == 'N':\n",
    "                        wn_pos = nltk.corpus.wordnet.NOUN\n",
    "                    elif penn_pos[0] == 'J':\n",
    "                        wn_pos = nltk.corpus.wordnet.ADJ\n",
    "                    elif penn_pos[0] == 'V':\n",
    "                        wn_pos = nltk.corpus.wordnet.VERB\n",
    "                    elif penn_pos[0] == 'R':\n",
    "                        wn_pos = nltk.corpus.wordnet.ADV\n",
    "                    else:\n",
    "                        sentence[index] = lemmatizer.lemmatize(word)\n",
    "                        continue\n",
    "                    sentence[index] = lemmatizer.lemmatize(word, wn_pos)\n",
    "        return data\n",
    "    \n",
    "    def add_negation_to_data(self, data):\n",
    "        \"\"\"\n",
    "        if 'no' or 'not' or \"...n't\" are found, \n",
    "        words are negated until end of sentence.\n",
    "        \"\"\"\n",
    "        self.doc2negate = []\n",
    "        for document, label in data:\n",
    "            negate_total = 0\n",
    "            for sentence in document:\n",
    "                negate = False\n",
    "                for index, token in enumerate(sentence):\n",
    "                    if token in ('not', 'no') or (token[-3:] == \"n't\"):\n",
    "                        negate = True\n",
    "                        continue\n",
    "                    if token == '.':\n",
    "                        negate = False\n",
    "                    if negate:\n",
    "                        sentence[index] = 'NOT_' + token\n",
    "                        negate_total += 1\n",
    "            self.doc2negate.append(negate_total)\n",
    "    \n",
    "    def remove_stopwords_from_data(self, data):\n",
    "        for document, label in data:\n",
    "            for sentence in document:\n",
    "                stopword_indices = []\n",
    "                for index, token in enumerate(sentence):\n",
    "                    if token in self.stopwords:\n",
    "                        stopword_indices.append(index)\n",
    "                stopword_indices.reverse()\n",
    "                # we delete stopwords in place, by deleting the latest index first.\n",
    "                for index in stopword_indices:\n",
    "                    del sentence[index]\n",
    "    \n",
    "    def get_stopwords(self):\n",
    "        self.stopwords = set(nltk.corpus.stopwords.words('english'))\n",
    "    \n",
    "    def get_sentiment_lexicons(self):\n",
    "        \"\"\"\n",
    "        We form lists of positive and negative sentiment lexicons.\n",
    "        We used data from MPQA: http://mpqa.cs.pitt.edu/lexicons/subj_lexicon/\n",
    "        \"\"\"\n",
    "        sentiment_lexicon_data = \"data/sentiment_lexicons.tff\"\n",
    "    \n",
    "        self.positive_lexicons = []\n",
    "        self.negative_lexicons = []\n",
    "        with open(sentiment_lexicon_data, 'r') as f:\n",
    "            while len(f.readline()) != 0:\n",
    "                toks = f.readline().split()\n",
    "                word = toks[2].split(\"=\")[1]\n",
    "                polarity = toks[-1].split(\"=\")[1]\n",
    "                if polarity in (\"positive\", \"negative\"):\n",
    "                    if polarity == 'positive':\n",
    "                        self.positive_lexicons.append(word)\n",
    "                    if polarity == 'negative':\n",
    "                        self.negative_lexicons.append(word)\n",
    "        \n",
    "    def add_to_feature_sets_from_data(self, data):\n",
    "        \"\"\"\n",
    "        Parses tokens in data and adds them to each feature set.\n",
    "        \"\"\"\n",
    "        for document, label in data:\n",
    "            for sentence in document:\n",
    "                sentence.insert(0, '<s>')\n",
    "                sentence.append('</s>')\n",
    "                prev_token = None\n",
    "                for index, token in enumerate(sentence):\n",
    "                    self.unigrams.add(token)\n",
    "                    if index > 0:\n",
    "                        bigram = (prev_token, token)\n",
    "                        self.bigrams.add(bigram)\n",
    "                    if index > 1:\n",
    "                        trigram = (prev_prev_token, prev_token, token)\n",
    "                        self.trigrams.add(trigram)\n",
    "                    prev_prev_token = prev_token\n",
    "                    prev_token = token\n",
    "                        \n",
    "    def finalise_feature_sets(self):\n",
    "        \"\"\"\n",
    "        Creates a dict for the feature sets for faster operations.\n",
    "        \"\"\"\n",
    "        self.unigrams = list(self.unigrams)\n",
    "        # create reverse map for fast token lookup\n",
    "        self.unigram2index = {}\n",
    "        for index, token in enumerate(self.unigrams):\n",
    "            self.unigram2index[token] = index\n",
    "            \n",
    "        self.bigrams = list(self.bigrams)\n",
    "        # create reverse map for fast token lookup\n",
    "        self.bigram2index = {}\n",
    "        for index, token in enumerate(self.bigrams):\n",
    "            self.bigram2index[token] = index\n",
    "            \n",
    "        self.trigrams = list(self.trigrams)\n",
    "        # create reverse map for fast token lookup\n",
    "        self.trigram2index = {}\n",
    "        for index, token in enumerate(self.trigrams):\n",
    "            self.trigram2index[token] = index\n",
    "        \n",
    "        \n",
    "    def extract_features(self, data, feature):\n",
    "        raise NotImplementedError\n",
    "    \n",
    "    def get_targets(self, data, label2index = None):\n",
    "        raise NotImplementedError\n",
    "        \n",
    "    def train_model_on_features(self, tr_features, tr_targets):\n",
    "        raise NotImplementedError"
   ]
  },
  {
   "cell_type": "code",
   "execution_count": 33,
   "metadata": {},
   "outputs": [],
   "source": [
    "class PolarityPredictorExtractFeatures(PolarityPredictorInit):\n",
    "    \n",
    "    def __init__(self, clip_counts = True, negation=False, remove_stopwords=False, lemmatise=False, additional_features=False, learning_model=MultinomialNB()):\n",
    "        self.clip_counts = clip_counts\n",
    "        self.negation = negation\n",
    "        self.remove_stopwords = remove_stopwords\n",
    "        self.model = learning_model\n",
    "        self.lemmatise = lemmatise\n",
    "        self.additional_features = additional_features\n",
    "        \n",
    "    def extract_features(self, data, ngram):\n",
    "        \"\"\"\n",
    "        Creates features from the data.\n",
    "        Depending on the input, a feature matrix for bag of words, bag of bigrams or bag of trigrams is created.\n",
    "        \"\"\"\n",
    "        rows = len(data)\n",
    "        feature_matrices = {}\n",
    "        # Initialise a feature matrix with zeros\n",
    "        feature_matrices['unigram'] = numpy.zeros((rows, len(self.unigrams)), dtype=numpy.int32)\n",
    "        feature_matrices['bigram'] = numpy.zeros((rows, len(self.bigrams)), dtype=numpy.int32)\n",
    "        feature_matrices['trigram'] = numpy.zeros((rows, len(self.trigrams)), dtype=numpy.int32)\n",
    "        # populate feature matrix\n",
    "        for row, item in enumerate(data):\n",
    "            document, _ = item\n",
    "            for sentence in document:\n",
    "                if sentence[0] != '<s>':\n",
    "                    sentence.insert(0, '<s>')\n",
    "                if sentence[-1] != '</s>':\n",
    "                    sentence.append('</s>')\n",
    "                prev_token = None\n",
    "                for idx, token in enumerate(sentence):\n",
    "                    if ngram == 'unigram':\n",
    "                        try:\n",
    "                            unigram_index = self.unigram2index[token]\n",
    "                        except KeyError:\n",
    "                            continue\n",
    "                        if self.clip_counts:\n",
    "                            feature_matrices['unigram'][row, unigram_index] = 1\n",
    "                        else:\n",
    "                            feature_matrices['unigram'][row, unigram_index] += 1\n",
    "                    if ngram == 'bigram':\n",
    "                        if idx > 0:\n",
    "                            bigram = (prev_token, token)\n",
    "                            try:\n",
    "                                bigram_index = self.bigram2index[bigram]\n",
    "                            except KeyError:\n",
    "                                continue\n",
    "                            if self.clip_counts:\n",
    "                                feature_matrices['bigram'][row, bigram_index] = 1\n",
    "                            else:\n",
    "                                feature_matrices['bigram'][row, bigram_index] += 1\n",
    "                    if ngram == 'trigram':\n",
    "                        if idx > 1:\n",
    "                            trigram = (prev_prev_token, prev_token, token)\n",
    "                            try:\n",
    "                                trigram_index = self.trigram2index[trigram]\n",
    "                            except KeyError:\n",
    "                                continue\n",
    "                            if self.clip_counts:\n",
    "                                feature_matrices['trigram'][row, trigram_index] = 1\n",
    "                            else:\n",
    "                                feature_matrices['trigram'][row, trigram_index] += 1\n",
    "\n",
    "                    prev_prev_token = prev_token\n",
    "                    prev_token = token\n",
    "        return feature_matrices[ngram]\n",
    "        \n",
    "    def add_additional_features(self, data, feature_matrix, negation):\n",
    "        \"\"\"\n",
    "        Additional features representing number of positive lexicons, number of negative lexicons\n",
    "        and number of negated words are added to the existing feature matrix built above.\n",
    "        \"\"\"\n",
    "        self.doc2poslex = []\n",
    "        self.doc2neglex = []\n",
    "        for row, item in enumerate(data):\n",
    "            document, _ = item\n",
    "            doc_pos_tot = 0\n",
    "            doc_neg_tot = 0\n",
    "            for sentence in document:\n",
    "                for token in sentence:\n",
    "                    if token in self.positive_lexicons:\n",
    "                        doc_pos_tot += 1\n",
    "                    if token in self.negative_lexicons:\n",
    "                        doc_neg_tot += 1\n",
    "            self.doc2poslex.append(doc_pos_tot)\n",
    "            self.doc2neglex.append(doc_neg_tot)\n",
    "        if negation:\n",
    "            additional_features = numpy.array((self.doc2negate, self.doc2poslex, self.doc2neglex)).T\n",
    "        else:\n",
    "            additional_features = numpy.array((self.doc2poslex, self.doc2neglex)).T\n",
    "        new_feature_matrix = numpy.append(feature_matrix, additional_features, 1)\n",
    "        return new_feature_matrix"
   ]
  },
  {
   "cell_type": "code",
   "execution_count": 34,
   "metadata": {},
   "outputs": [],
   "source": [
    "class PolarityPredictorAssignTargets(PolarityPredictorExtractFeatures):\n",
    " \n",
    "    def get_targets(self, data):\n",
    "        ''' \n",
    "        Column vector with target labels is created.\n",
    "        '''\n",
    "        targets = numpy.zeros(len(data), dtype=numpy.int8)\n",
    "        index = 0\n",
    "        for _, label in data:\n",
    "            if label == 'pos':\n",
    "                targets[index] = 1\n",
    "            index += 1\n",
    "        return targets\n",
    "\n",
    "    def train_model_on_features(self, tr_features, tr_targets):\n",
    "        raise NotImplementedError"
   ]
  },
  {
   "cell_type": "code",
   "execution_count": 35,
   "metadata": {},
   "outputs": [],
   "source": [
    "class PolarityPredictor(PolarityPredictorAssignTargets):\n",
    "\n",
    "    def train_model_on_features(self, tr_features, tr_targets):\n",
    "        self.model.fit(tr_features, tr_targets)\n",
    "        \n",
    "    def predict(self, data, feature, get_accuracy = False, get_confusion_matrix = False):\n",
    "        \n",
    "        if self.lemmatise:\n",
    "            tagged_data = self.get_pos_tags(data)\n",
    "            lemmatised_data = self.lemmatise_data(tagged_data)\n",
    "            data = lemmatised_data\n",
    "        \n",
    "        if self.negation:\n",
    "            self.add_negation_to_data(data)\n",
    "        \n",
    "        if self.remove_stopwords:\n",
    "            self.remove_stopwords_from_data(data)\n",
    "        \n",
    "        features = self.extract_features(data, feature)\n",
    "        \n",
    "        if self.additional_features:\n",
    "            self.get_sentiment_lexicons()\n",
    "            features = self.add_additional_features(data, features, self.negation)\n",
    "            \n",
    "        y_pred = self.model.predict(features)\n",
    "        \n",
    "        labels = []\n",
    "        for is_positive in y_pred:\n",
    "            if is_positive:\n",
    "                labels.append('pos')\n",
    "            else:\n",
    "                labels.append('neg')\n",
    "                \n",
    "        if get_accuracy or get_confusion_matrix:\n",
    "            retval = []\n",
    "            retval.append(labels)\n",
    "            y_true = self.get_targets(data)\n",
    "            if get_accuracy:\n",
    "                retval.append(metrics.accuracy_score(y_true, y_pred))\n",
    "            if get_confusion_matrix:\n",
    "                retval.append(metrics.confusion_matrix(y_true, y_pred))\n",
    "            return retval\n",
    "        else:\n",
    "            return labels"
   ]
  },
  {
   "cell_type": "markdown",
   "metadata": {},
   "source": [
    "# Changes to Code"
   ]
  },
  {
   "cell_type": "markdown",
   "metadata": {},
   "source": [
    "* We build bigram and trigram sets, along with vocab as before (renamed as the unigram set)\n",
    "* We build feature matrices for these in the same way as was done with vocab previously\n",
    "* We have added an option to use lemmatisation and negation\n",
    "* We have added an option to remove stopwords from the data\n",
    "* We have added '\\<s>' and '\\</s>' tags to the data \n",
    "* Slight refactor from initial code structure "
   ]
  },
  {
   "cell_type": "markdown",
   "metadata": {},
   "source": [
    "# Experiments"
   ]
  },
  {
   "cell_type": "markdown",
   "metadata": {},
   "source": [
    "## Evaluation Table"
   ]
  },
  {
   "cell_type": "markdown",
   "metadata": {},
   "source": [
    "Our model builds three different feature representations from the input data:\n",
    "* Bag-of-Words (Unigrams)\n",
    "* Bag-of-Bigrams\n",
    "* Bag-of-Trigrams\n",
    "\n",
    "The *PolarityPredictor* model takes in a *feature* parameter which specifies which feature of the above to use. There is also a *learning_model* parameter which specifies which particular learning model to use.\n",
    "\n",
    "The model can also be tweaked to perform the following:\n",
    "* Clip Counts in feature matrices\n",
    "* Negation\n",
    "* Removal of StopWords\n",
    "* Lemmatisation"
   ]
  },
  {
   "cell_type": "markdown",
   "metadata": {},
   "source": [
    "We plan to run many different experiments using different feature representations and different learning models.   Therefore, having an evaluation table which contains the details of each experiment and the corresponding evalation results will be useful. \n",
    "The following values will be recorded in the dataframe for each model:\n",
    "* Average 10 Fold Cross-Validation Accuracy\n",
    "* Root Mean Square Error (RMSE)\n",
    "* Minimum Accuracy\n",
    "* Maximum Accuracy\n",
    "\n",
    "Below, we define table to store these."
   ]
  },
  {
   "cell_type": "code",
   "execution_count": 36,
   "metadata": {},
   "outputs": [],
   "source": [
    "evaluation_dataframes = {}\n",
    "evaluation_dataframes['MultinomialNB'] = pd.DataFrame(columns=['name', 'learning_model', 'features', 'clip_counts', 'negation', 'remove_stopwords', 'lemmatise', 'avg_cv_acc', 'rmse', 'min_acc', 'max_acc'])"
   ]
  },
  {
   "cell_type": "code",
   "execution_count": 37,
   "metadata": {},
   "outputs": [],
   "source": [
    "def evaluate_model(model, splits, feature, verbose = False):\n",
    "    accuracies = []\n",
    "    fold = 0\n",
    "    for tr_data, te_data in splits:\n",
    "        if verbose:\n",
    "            print('Evaluating fold %d of %d' %(fold+1, len(splits)))\n",
    "            fold += 1\n",
    "        model.train(tr_data, feature)\n",
    "        _, accuracy = model.predict(te_data, feature, get_accuracy = True)\n",
    "        accuracies.append(accuracy)\n",
    "        if verbose:\n",
    "            print('-->', accuracy)\n",
    "    n = float(len(accuracies))\n",
    "    avg = sum(accuracies) / n\n",
    "    mse = sum([(x-avg)**2 for x in accuracies]) / n\n",
    "    return (avg, mse**0.5, min(accuracies),\n",
    "            max(accuracies))\n",
    "\n",
    "def print_first_predictions(model, te_data, feature, n = 12):\n",
    "    predictions = model.predict(te_data, feature)\n",
    "    for i in range(n):\n",
    "        document, label = te_data[i]\n",
    "        prediction = predictions[i]\n",
    "        print('%4d %s %s %s' %(i, label, prediction, get_document_preview(document),))"
   ]
  },
  {
   "cell_type": "markdown",
   "metadata": {},
   "source": [
    "# 1. Multinomial NB"
   ]
  },
  {
   "cell_type": "code",
   "execution_count": 38,
   "metadata": {},
   "outputs": [],
   "source": [
    "learning_model = MultinomialNB()"
   ]
  },
  {
   "cell_type": "markdown",
   "metadata": {},
   "source": [
    "## 1.1 Baseline"
   ]
  },
  {
   "cell_type": "markdown",
   "metadata": {},
   "source": [
    "We run the baseline approach as a functionality test. The settings used are listed in the cell below."
   ]
  },
  {
   "cell_type": "code",
   "execution_count": 41,
   "metadata": {},
   "outputs": [],
   "source": [
    "clip_counts = True\n",
    "negation = False\n",
    "remove_stopwords = True\n",
    "lemmatise = True\n",
    "additional_features = False\n",
    "feature = 'unigram'"
   ]
  },
  {
   "cell_type": "code",
   "execution_count": 42,
   "metadata": {
    "scrolled": true
   },
   "outputs": [
    {
     "name": "stdout",
     "output_type": "stream",
     "text": [
      "0.825\n",
      "[[85 15]\n",
      " [20 80]]\n"
     ]
    }
   ],
   "source": [
    "model = PolarityPredictor(clip_counts, negation, remove_stopwords, lemmatise, additional_features, learning_model)\n",
    "model.train(splits[0][0], feature)\n",
    "\n",
    "# baseline_avg, baseline_rmse, baseline_min_acc, baseline_max_acc = evaluate_model(model, splits, feature, verbose = True)\n",
    "\n",
    "\n",
    "labels, accuracy, confusion_matrix = model.predict(splits[0][1], feature, get_accuracy = True, get_confusion_matrix = True)\n",
    "\n",
    "print(accuracy)\n",
    "print(confusion_matrix)"
   ]
  },
  {
   "cell_type": "code",
   "execution_count": 21,
   "metadata": {
    "scrolled": true
   },
   "outputs": [
    {
     "name": "stdout",
     "output_type": "stream",
     "text": [
      "Evaluating fold 1 of 10\n",
      "--> 0.81\n",
      "Evaluating fold 2 of 10\n",
      "--> 0.835\n",
      "Evaluating fold 3 of 10\n",
      "--> 0.82\n",
      "Evaluating fold 4 of 10\n",
      "--> 0.83\n",
      "Evaluating fold 5 of 10\n"
     ]
    },
    {
     "ename": "KeyboardInterrupt",
     "evalue": "",
     "output_type": "error",
     "traceback": [
      "\u001b[0;31m---------------------------------------------------------------------------\u001b[0m",
      "\u001b[0;31mKeyboardInterrupt\u001b[0m                         Traceback (most recent call last)",
      "\u001b[0;32m<ipython-input-21-269817c947fe>\u001b[0m in \u001b[0;36m<module>\u001b[0;34m\u001b[0m\n\u001b[1;32m      2\u001b[0m \u001b[0mmodel\u001b[0m\u001b[0;34m.\u001b[0m\u001b[0mtrain\u001b[0m\u001b[0;34m(\u001b[0m\u001b[0msplits\u001b[0m\u001b[0;34m[\u001b[0m\u001b[0;36m0\u001b[0m\u001b[0;34m]\u001b[0m\u001b[0;34m[\u001b[0m\u001b[0;36m0\u001b[0m\u001b[0;34m]\u001b[0m\u001b[0;34m,\u001b[0m \u001b[0mfeature\u001b[0m\u001b[0;34m)\u001b[0m\u001b[0;34m\u001b[0m\u001b[0;34m\u001b[0m\u001b[0m\n\u001b[1;32m      3\u001b[0m \u001b[0;34m\u001b[0m\u001b[0m\n\u001b[0;32m----> 4\u001b[0;31m \u001b[0mbaseline_avg\u001b[0m\u001b[0;34m,\u001b[0m \u001b[0mbaseline_rmse\u001b[0m\u001b[0;34m,\u001b[0m \u001b[0mbaseline_min_acc\u001b[0m\u001b[0;34m,\u001b[0m \u001b[0mbaseline_max_acc\u001b[0m \u001b[0;34m=\u001b[0m \u001b[0mevaluate_model\u001b[0m\u001b[0;34m(\u001b[0m\u001b[0mmodel\u001b[0m\u001b[0;34m,\u001b[0m \u001b[0msplits\u001b[0m\u001b[0;34m,\u001b[0m \u001b[0mfeature\u001b[0m\u001b[0;34m,\u001b[0m \u001b[0mverbose\u001b[0m \u001b[0;34m=\u001b[0m \u001b[0;32mTrue\u001b[0m\u001b[0;34m)\u001b[0m\u001b[0;34m\u001b[0m\u001b[0;34m\u001b[0m\u001b[0m\n\u001b[0m\u001b[1;32m      5\u001b[0m \u001b[0mevaluation_dataframes\u001b[0m\u001b[0;34m[\u001b[0m\u001b[0;34m'MultinomialNB'\u001b[0m\u001b[0;34m]\u001b[0m\u001b[0;34m.\u001b[0m\u001b[0mloc\u001b[0m\u001b[0;34m[\u001b[0m\u001b[0;36m0\u001b[0m\u001b[0;34m]\u001b[0m \u001b[0;34m=\u001b[0m \u001b[0;34m[\u001b[0m\u001b[0;34m'baseline-NB-BoW-clip'\u001b[0m\u001b[0;34m,\u001b[0m \u001b[0mlearning_model\u001b[0m\u001b[0;34m,\u001b[0m \u001b[0mfeature\u001b[0m\u001b[0;34m,\u001b[0m \u001b[0mclip_counts\u001b[0m\u001b[0;34m,\u001b[0m \u001b[0mnegation\u001b[0m\u001b[0;34m,\u001b[0m \u001b[0mremove_stopwords\u001b[0m\u001b[0;34m,\u001b[0m \u001b[0mlemmatise\u001b[0m\u001b[0;34m,\u001b[0m \u001b[0mbaseline_avg\u001b[0m\u001b[0;34m,\u001b[0m \u001b[0mbaseline_rmse\u001b[0m\u001b[0;34m,\u001b[0m \u001b[0mbaseline_min_acc\u001b[0m\u001b[0;34m,\u001b[0m \u001b[0mbaseline_max_acc\u001b[0m\u001b[0;34m]\u001b[0m\u001b[0;34m\u001b[0m\u001b[0;34m\u001b[0m\u001b[0m\n",
      "\u001b[0;32m<ipython-input-17-7eed26b7bf01>\u001b[0m in \u001b[0;36mevaluate_model\u001b[0;34m(model, splits, feature, verbose)\u001b[0m\n\u001b[1;32m      6\u001b[0m             \u001b[0mprint\u001b[0m\u001b[0;34m(\u001b[0m\u001b[0;34m'Evaluating fold %d of %d'\u001b[0m \u001b[0;34m%\u001b[0m\u001b[0;34m(\u001b[0m\u001b[0mfold\u001b[0m\u001b[0;34m+\u001b[0m\u001b[0;36m1\u001b[0m\u001b[0;34m,\u001b[0m \u001b[0mlen\u001b[0m\u001b[0;34m(\u001b[0m\u001b[0msplits\u001b[0m\u001b[0;34m)\u001b[0m\u001b[0;34m)\u001b[0m\u001b[0;34m)\u001b[0m\u001b[0;34m\u001b[0m\u001b[0;34m\u001b[0m\u001b[0m\n\u001b[1;32m      7\u001b[0m             \u001b[0mfold\u001b[0m \u001b[0;34m+=\u001b[0m \u001b[0;36m1\u001b[0m\u001b[0;34m\u001b[0m\u001b[0;34m\u001b[0m\u001b[0m\n\u001b[0;32m----> 8\u001b[0;31m         \u001b[0mmodel\u001b[0m\u001b[0;34m.\u001b[0m\u001b[0mtrain\u001b[0m\u001b[0;34m(\u001b[0m\u001b[0mtr_data\u001b[0m\u001b[0;34m,\u001b[0m \u001b[0mfeature\u001b[0m\u001b[0;34m)\u001b[0m\u001b[0;34m\u001b[0m\u001b[0;34m\u001b[0m\u001b[0m\n\u001b[0m\u001b[1;32m      9\u001b[0m         \u001b[0m_\u001b[0m\u001b[0;34m,\u001b[0m \u001b[0maccuracy\u001b[0m \u001b[0;34m=\u001b[0m \u001b[0mmodel\u001b[0m\u001b[0;34m.\u001b[0m\u001b[0mpredict\u001b[0m\u001b[0;34m(\u001b[0m\u001b[0mte_data\u001b[0m\u001b[0;34m,\u001b[0m \u001b[0mfeature\u001b[0m\u001b[0;34m,\u001b[0m \u001b[0mget_accuracy\u001b[0m \u001b[0;34m=\u001b[0m \u001b[0;32mTrue\u001b[0m\u001b[0;34m)\u001b[0m\u001b[0;34m\u001b[0m\u001b[0;34m\u001b[0m\u001b[0m\n\u001b[1;32m     10\u001b[0m         \u001b[0maccuracies\u001b[0m\u001b[0;34m.\u001b[0m\u001b[0mappend\u001b[0m\u001b[0;34m(\u001b[0m\u001b[0maccuracy\u001b[0m\u001b[0;34m)\u001b[0m\u001b[0;34m\u001b[0m\u001b[0;34m\u001b[0m\u001b[0m\n",
      "\u001b[0;32m<ipython-input-12-521e67dfb994>\u001b[0m in \u001b[0;36mtrain\u001b[0;34m(self, data_with_labels, feature)\u001b[0m\n\u001b[1;32m     11\u001b[0m         \u001b[0;31m# negate first then remove stop words? probably makes most sense\u001b[0m\u001b[0;34m\u001b[0m\u001b[0;34m\u001b[0m\u001b[0;34m\u001b[0m\u001b[0m\n\u001b[1;32m     12\u001b[0m         \u001b[0;32mif\u001b[0m \u001b[0mself\u001b[0m\u001b[0;34m.\u001b[0m\u001b[0mlemmatise\u001b[0m\u001b[0;34m:\u001b[0m\u001b[0;34m\u001b[0m\u001b[0;34m\u001b[0m\u001b[0m\n\u001b[0;32m---> 13\u001b[0;31m             \u001b[0mtagged_data\u001b[0m \u001b[0;34m=\u001b[0m \u001b[0mself\u001b[0m\u001b[0;34m.\u001b[0m\u001b[0mget_pos_tags\u001b[0m\u001b[0;34m(\u001b[0m\u001b[0mdata_with_labels\u001b[0m\u001b[0;34m)\u001b[0m\u001b[0;34m\u001b[0m\u001b[0;34m\u001b[0m\u001b[0m\n\u001b[0m\u001b[1;32m     14\u001b[0m             \u001b[0mlemmatised_data\u001b[0m \u001b[0;34m=\u001b[0m \u001b[0mself\u001b[0m\u001b[0;34m.\u001b[0m\u001b[0mlemmatise_data\u001b[0m\u001b[0;34m(\u001b[0m\u001b[0mtagged_data\u001b[0m\u001b[0;34m)\u001b[0m\u001b[0;34m\u001b[0m\u001b[0;34m\u001b[0m\u001b[0m\n\u001b[1;32m     15\u001b[0m             \u001b[0mdata_with_labels\u001b[0m \u001b[0;34m=\u001b[0m \u001b[0mlemmatised_data\u001b[0m\u001b[0;34m\u001b[0m\u001b[0;34m\u001b[0m\u001b[0m\n",
      "\u001b[0;32m<ipython-input-12-521e67dfb994>\u001b[0m in \u001b[0;36mget_pos_tags\u001b[0;34m(self, data)\u001b[0m\n\u001b[1;32m     44\u001b[0m             \u001b[0mnew_document\u001b[0m \u001b[0;34m=\u001b[0m \u001b[0;34m[\u001b[0m\u001b[0;34m]\u001b[0m\u001b[0;34m\u001b[0m\u001b[0;34m\u001b[0m\u001b[0m\n\u001b[1;32m     45\u001b[0m             \u001b[0;32mfor\u001b[0m \u001b[0msentence\u001b[0m \u001b[0;32min\u001b[0m \u001b[0mdocument\u001b[0m\u001b[0;34m:\u001b[0m\u001b[0;34m\u001b[0m\u001b[0;34m\u001b[0m\u001b[0m\n\u001b[0;32m---> 46\u001b[0;31m                 \u001b[0mtagged_sentence\u001b[0m \u001b[0;34m=\u001b[0m \u001b[0mnltk\u001b[0m\u001b[0;34m.\u001b[0m\u001b[0mpos_tag\u001b[0m\u001b[0;34m(\u001b[0m\u001b[0msentence\u001b[0m\u001b[0;34m)\u001b[0m\u001b[0;34m\u001b[0m\u001b[0;34m\u001b[0m\u001b[0m\n\u001b[0m\u001b[1;32m     47\u001b[0m                 \u001b[0mnew_document\u001b[0m\u001b[0;34m.\u001b[0m\u001b[0mappend\u001b[0m\u001b[0;34m(\u001b[0m\u001b[0mtagged_sentence\u001b[0m\u001b[0;34m)\u001b[0m\u001b[0;34m\u001b[0m\u001b[0;34m\u001b[0m\u001b[0m\n\u001b[1;32m     48\u001b[0m             \u001b[0mnew_entry\u001b[0m \u001b[0;34m=\u001b[0m \u001b[0;34m(\u001b[0m\u001b[0mnew_document\u001b[0m\u001b[0;34m,\u001b[0m \u001b[0mlabel\u001b[0m\u001b[0;34m)\u001b[0m\u001b[0;34m\u001b[0m\u001b[0;34m\u001b[0m\u001b[0m\n",
      "\u001b[0;32m~/opt/anaconda3/lib/python3.8/site-packages/nltk/tag/__init__.py\u001b[0m in \u001b[0;36mpos_tag\u001b[0;34m(tokens, tagset, lang)\u001b[0m\n\u001b[1;32m    159\u001b[0m     \"\"\"\n\u001b[1;32m    160\u001b[0m     \u001b[0mtagger\u001b[0m \u001b[0;34m=\u001b[0m \u001b[0m_get_tagger\u001b[0m\u001b[0;34m(\u001b[0m\u001b[0mlang\u001b[0m\u001b[0;34m)\u001b[0m\u001b[0;34m\u001b[0m\u001b[0;34m\u001b[0m\u001b[0m\n\u001b[0;32m--> 161\u001b[0;31m     \u001b[0;32mreturn\u001b[0m \u001b[0m_pos_tag\u001b[0m\u001b[0;34m(\u001b[0m\u001b[0mtokens\u001b[0m\u001b[0;34m,\u001b[0m \u001b[0mtagset\u001b[0m\u001b[0;34m,\u001b[0m \u001b[0mtagger\u001b[0m\u001b[0;34m,\u001b[0m \u001b[0mlang\u001b[0m\u001b[0;34m)\u001b[0m\u001b[0;34m\u001b[0m\u001b[0;34m\u001b[0m\u001b[0m\n\u001b[0m\u001b[1;32m    162\u001b[0m \u001b[0;34m\u001b[0m\u001b[0m\n\u001b[1;32m    163\u001b[0m \u001b[0;34m\u001b[0m\u001b[0m\n",
      "\u001b[0;32m~/opt/anaconda3/lib/python3.8/site-packages/nltk/tag/__init__.py\u001b[0m in \u001b[0;36m_pos_tag\u001b[0;34m(tokens, tagset, tagger, lang)\u001b[0m\n\u001b[1;32m    116\u001b[0m         )\n\u001b[1;32m    117\u001b[0m     \u001b[0;32melse\u001b[0m\u001b[0;34m:\u001b[0m\u001b[0;34m\u001b[0m\u001b[0;34m\u001b[0m\u001b[0m\n\u001b[0;32m--> 118\u001b[0;31m         \u001b[0mtagged_tokens\u001b[0m \u001b[0;34m=\u001b[0m \u001b[0mtagger\u001b[0m\u001b[0;34m.\u001b[0m\u001b[0mtag\u001b[0m\u001b[0;34m(\u001b[0m\u001b[0mtokens\u001b[0m\u001b[0;34m)\u001b[0m\u001b[0;34m\u001b[0m\u001b[0;34m\u001b[0m\u001b[0m\n\u001b[0m\u001b[1;32m    119\u001b[0m         \u001b[0;32mif\u001b[0m \u001b[0mtagset\u001b[0m\u001b[0;34m:\u001b[0m  \u001b[0;31m# Maps to the specified tagset.\u001b[0m\u001b[0;34m\u001b[0m\u001b[0;34m\u001b[0m\u001b[0m\n\u001b[1;32m    120\u001b[0m             \u001b[0;32mif\u001b[0m \u001b[0mlang\u001b[0m \u001b[0;34m==\u001b[0m \u001b[0;34m\"eng\"\u001b[0m\u001b[0;34m:\u001b[0m\u001b[0;34m\u001b[0m\u001b[0;34m\u001b[0m\u001b[0m\n",
      "\u001b[0;32m~/opt/anaconda3/lib/python3.8/site-packages/nltk/tag/perceptron.py\u001b[0m in \u001b[0;36mtag\u001b[0;34m(self, tokens, return_conf, use_tagdict)\u001b[0m\n\u001b[1;32m    186\u001b[0m             \u001b[0;32mif\u001b[0m \u001b[0;32mnot\u001b[0m \u001b[0mtag\u001b[0m\u001b[0;34m:\u001b[0m\u001b[0;34m\u001b[0m\u001b[0;34m\u001b[0m\u001b[0m\n\u001b[1;32m    187\u001b[0m                 \u001b[0mfeatures\u001b[0m \u001b[0;34m=\u001b[0m \u001b[0mself\u001b[0m\u001b[0;34m.\u001b[0m\u001b[0m_get_features\u001b[0m\u001b[0;34m(\u001b[0m\u001b[0mi\u001b[0m\u001b[0;34m,\u001b[0m \u001b[0mword\u001b[0m\u001b[0;34m,\u001b[0m \u001b[0mcontext\u001b[0m\u001b[0;34m,\u001b[0m \u001b[0mprev\u001b[0m\u001b[0;34m,\u001b[0m \u001b[0mprev2\u001b[0m\u001b[0;34m)\u001b[0m\u001b[0;34m\u001b[0m\u001b[0;34m\u001b[0m\u001b[0m\n\u001b[0;32m--> 188\u001b[0;31m                 \u001b[0mtag\u001b[0m\u001b[0;34m,\u001b[0m \u001b[0mconf\u001b[0m \u001b[0;34m=\u001b[0m \u001b[0mself\u001b[0m\u001b[0;34m.\u001b[0m\u001b[0mmodel\u001b[0m\u001b[0;34m.\u001b[0m\u001b[0mpredict\u001b[0m\u001b[0;34m(\u001b[0m\u001b[0mfeatures\u001b[0m\u001b[0;34m,\u001b[0m \u001b[0mreturn_conf\u001b[0m\u001b[0;34m)\u001b[0m\u001b[0;34m\u001b[0m\u001b[0;34m\u001b[0m\u001b[0m\n\u001b[0m\u001b[1;32m    189\u001b[0m             \u001b[0moutput\u001b[0m\u001b[0;34m.\u001b[0m\u001b[0mappend\u001b[0m\u001b[0;34m(\u001b[0m\u001b[0;34m(\u001b[0m\u001b[0mword\u001b[0m\u001b[0;34m,\u001b[0m \u001b[0mtag\u001b[0m\u001b[0;34m,\u001b[0m \u001b[0mconf\u001b[0m\u001b[0;34m)\u001b[0m \u001b[0;32mif\u001b[0m \u001b[0mreturn_conf\u001b[0m \u001b[0;34m==\u001b[0m \u001b[0;32mTrue\u001b[0m \u001b[0;32melse\u001b[0m \u001b[0;34m(\u001b[0m\u001b[0mword\u001b[0m\u001b[0;34m,\u001b[0m \u001b[0mtag\u001b[0m\u001b[0;34m)\u001b[0m\u001b[0;34m)\u001b[0m\u001b[0;34m\u001b[0m\u001b[0;34m\u001b[0m\u001b[0m\n\u001b[1;32m    190\u001b[0m \u001b[0;34m\u001b[0m\u001b[0m\n",
      "\u001b[0;32m~/opt/anaconda3/lib/python3.8/site-packages/nltk/tag/perceptron.py\u001b[0m in \u001b[0;36mpredict\u001b[0;34m(self, features, return_conf)\u001b[0m\n\u001b[1;32m     64\u001b[0m                 \u001b[0;32mcontinue\u001b[0m\u001b[0;34m\u001b[0m\u001b[0;34m\u001b[0m\u001b[0m\n\u001b[1;32m     65\u001b[0m             \u001b[0mweights\u001b[0m \u001b[0;34m=\u001b[0m \u001b[0mself\u001b[0m\u001b[0;34m.\u001b[0m\u001b[0mweights\u001b[0m\u001b[0;34m[\u001b[0m\u001b[0mfeat\u001b[0m\u001b[0;34m]\u001b[0m\u001b[0;34m\u001b[0m\u001b[0;34m\u001b[0m\u001b[0m\n\u001b[0;32m---> 66\u001b[0;31m             \u001b[0;32mfor\u001b[0m \u001b[0mlabel\u001b[0m\u001b[0;34m,\u001b[0m \u001b[0mweight\u001b[0m \u001b[0;32min\u001b[0m \u001b[0mweights\u001b[0m\u001b[0;34m.\u001b[0m\u001b[0mitems\u001b[0m\u001b[0;34m(\u001b[0m\u001b[0;34m)\u001b[0m\u001b[0;34m:\u001b[0m\u001b[0;34m\u001b[0m\u001b[0;34m\u001b[0m\u001b[0m\n\u001b[0m\u001b[1;32m     67\u001b[0m                 \u001b[0mscores\u001b[0m\u001b[0;34m[\u001b[0m\u001b[0mlabel\u001b[0m\u001b[0;34m]\u001b[0m \u001b[0;34m+=\u001b[0m \u001b[0mvalue\u001b[0m \u001b[0;34m*\u001b[0m \u001b[0mweight\u001b[0m\u001b[0;34m\u001b[0m\u001b[0;34m\u001b[0m\u001b[0m\n\u001b[1;32m     68\u001b[0m \u001b[0;34m\u001b[0m\u001b[0m\n",
      "\u001b[0;31mKeyboardInterrupt\u001b[0m: "
     ]
    }
   ],
   "source": [
    "model = PolarityPredictor(clip_counts, negation, remove_stopwords, lemmatise, learning_model)\n",
    "model.train(splits[0][0], feature)\n",
    "\n",
    "baseline_avg, baseline_rmse, baseline_min_acc, baseline_max_acc = evaluate_model(model, splits, feature, verbose = True)\n",
    "evaluation_dataframes['MultinomialNB'].loc[0] = ['baseline-NB-BoW-clip', learning_model, feature, clip_counts, negation, remove_stopwords, lemmatise, baseline_avg, baseline_rmse, baseline_min_acc, baseline_max_acc]"
   ]
  },
  {
   "cell_type": "markdown",
   "metadata": {},
   "source": [
    "So, the baseline approach achieves an average accuracy score of 82.4% and has been to our evaluation table. The format of this dataframe can be seen below,"
   ]
  },
  {
   "cell_type": "code",
   "execution_count": null,
   "metadata": {},
   "outputs": [],
   "source": [
    "evaluation_dataframes"
   ]
  },
  {
   "cell_type": "markdown",
   "metadata": {},
   "source": [
    "## 1.2 Parameter Experimentation"
   ]
  },
  {
   "cell_type": "markdown",
   "metadata": {},
   "source": [
    "We will now run experiments using the MultinomialNB model with different parameters.\n"
   ]
  },
  {
   "cell_type": "code",
   "execution_count": null,
   "metadata": {},
   "outputs": [],
   "source": [
    "index = 1\n",
    "for feature in ['bow', 'bob', 'bot']:\n",
    "    for clip_counts in (True, False):\n",
    "        for negation in (True, False):\n",
    "            for remove_stopwords in (True, False):\n",
    "                for lemmatise in (True, False):\n",
    "                    model = PolarityPredictor(clip_counts, negation, remove_stopwords, lemmatise, learning_model)\n",
    "                    avg, rmse, min_acc, max_acc = evaluate_model(model, splits, feature, verbose = False)\n",
    "                    evaluation_dataframes['MultinomialNB'].loc[evaluation_dataframes['MultinomialNB'].index.max()+1] = [f'param-exp-NB-{index}', learning_model, feature, clip_counts, \n",
    "                                                                      negation, remove_stopwords, lemmatise, avg, rmse, min_acc, max_acc]\n",
    "                    index += 1"
   ]
  },
  {
   "cell_type": "markdown",
   "metadata": {},
   "source": [
    "# 2. Logistic Regression"
   ]
  },
  {
   "cell_type": "code",
   "execution_count": null,
   "metadata": {},
   "outputs": [],
   "source": [
    "evaluation_dataframes['LogisticRegression'] = pd.DataFrame(columns=['name', 'learning_model', 'features', 'clip_counts', 'negation', 'remove_stopwords', 'lemmatise', 'avg_cv_acc', 'rmse', 'min_acc', 'max_acc'])\n",
    "from sklearn.linear_model import LogisticRegression\n",
    "learning_model = LogisticRegression()"
   ]
  },
  {
   "cell_type": "code",
   "execution_count": null,
   "metadata": {},
   "outputs": [],
   "source": [
    "clip_counts = True\n",
    "negation = False\n",
    "remove_stopwords = False\n",
    "lemmatise = False\n",
    "feature = 'bow' #bag of words"
   ]
  },
  {
   "cell_type": "markdown",
   "metadata": {},
   "source": [
    "## 2.1 Baseline"
   ]
  },
  {
   "cell_type": "code",
   "execution_count": null,
   "metadata": {},
   "outputs": [],
   "source": [
    "model = PolarityPredictor(clip_counts, negation, remove_stopwords, lemmatise, learning_model)\n",
    "model.train(splits[0][0], feature)\n",
    "\n",
    "baseline_avg, baseline_rmse, baseline_min_acc, baseline_max_acc = evaluate_model(model, splits, feature, verbose = True)\n",
    "evaluation_dataframes['LogisticRegression'].loc[0] = ['baseline-LR-BoW-clip', learning_model, feature, clip_counts, negation, remove_stopwords, lemmatise, baseline_avg, baseline_rmse, baseline_min_acc, baseline_max_acc]"
   ]
  },
  {
   "cell_type": "markdown",
   "metadata": {},
   "source": [
    "## 2.2 Parameter Experimentation"
   ]
  },
  {
   "cell_type": "code",
   "execution_count": null,
   "metadata": {},
   "outputs": [],
   "source": [
    "index = 1\n",
    "for feature in ['bow', 'bob', 'bot']:\n",
    "    for clip_counts in (True, False):\n",
    "        for negation in (True, False):\n",
    "            for remove_stopwords in (True, False):\n",
    "                for lemmatise in (True, False):\n",
    "                    model = PolarityPredictor(clip_counts, negation, remove_stopwords, lemmatise, learning_model)\n",
    "                    avg, rmse, min_acc, max_acc = evaluate_model(model, splits, feature, verbose = False)\n",
    "                    evaluation_dataframes['LogisticRegression'].loc[evaluation_dataframes['LogisticRegression'].index.max()+1] = [f'param-exp-LR-{index}', learning_model, feature, clip_counts, \n",
    "                                                                      negation, remove_stopwords, lemmatise, avg, rmse, min_acc, max_acc]\n",
    "                    index += 1"
   ]
  },
  {
   "cell_type": "code",
   "execution_count": null,
   "metadata": {},
   "outputs": [],
   "source": [
    "evaluation_dataframes['MultinomialNB']"
   ]
  },
  {
   "cell_type": "code",
   "execution_count": null,
   "metadata": {},
   "outputs": [],
   "source": [
    "evaluation_dataframes['LogisticRegression']"
   ]
  },
  {
   "cell_type": "code",
   "execution_count": null,
   "metadata": {},
   "outputs": [],
   "source": []
  },
  {
   "cell_type": "markdown",
   "metadata": {},
   "source": [
    "# 1. Model Name"
   ]
  },
  {
   "cell_type": "code",
   "execution_count": null,
   "metadata": {},
   "outputs": [],
   "source": [
    "# change below to suit model\n",
    "evaluation_dataframes['LogisticRegression'] = pd.DataFrame(columns=['name', 'learning_model', 'features', 'clip_counts', 'negation', 'remove_stopwords', 'lemmatise', 'avg_cv_acc', 'rmse', 'min_acc', 'max_acc'])\n",
    "from sklearn.linear_model import LogisticRegression\n",
    "learning_model = LogisticRegression()"
   ]
  },
  {
   "cell_type": "code",
   "execution_count": null,
   "metadata": {},
   "outputs": [],
   "source": [
    "clip_counts = True\n",
    "negation = False\n",
    "remove_stopwords = False\n",
    "lemmatise = False\n",
    "feature = 'unigram'"
   ]
  },
  {
   "cell_type": "markdown",
   "metadata": {},
   "source": [
    "## 1.1 Baseline"
   ]
  },
  {
   "cell_type": "code",
   "execution_count": null,
   "metadata": {},
   "outputs": [],
   "source": []
  }
 ],
 "metadata": {
  "kernelspec": {
   "display_name": "Python 3",
   "language": "python",
   "name": "python3"
  },
  "language_info": {
   "codemirror_mode": {
    "name": "ipython",
    "version": 3
   },
   "file_extension": ".py",
   "mimetype": "text/x-python",
   "name": "python",
   "nbconvert_exporter": "python",
   "pygments_lexer": "ipython3",
   "version": "3.8.5"
  }
 },
 "nbformat": 4,
 "nbformat_minor": 5
}
