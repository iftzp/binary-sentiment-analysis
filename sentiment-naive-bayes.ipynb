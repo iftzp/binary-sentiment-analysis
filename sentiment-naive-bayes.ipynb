{
 "cells": [
  {
   "cell_type": "markdown",
   "metadata": {},
   "source": [
    "# Sentiment Polarity Prediction with Naive Bayes\n",
    "\n",
    "This notebook contains a basic implementation of document-level sentiment analysis\n",
    "for movie reviews with multinomial Naive Bayes and bag-of-words features\n",
    "and of cross-validation.\n",
    "* No special treatment of rare or unknown words. Unknown words in the test data are skipped.\n",
    "\n",
    "We use the movie review polarity data set of Pang and Lee 2004 [A Sentimental Education: Sentiment Analysis Using Subjectivity Summarization Based on Minimum Cuts](https://www.aclweb.org/anthology/P04-1035/) in Version 2.0 available from http://www.cs.cornell.edu/People/pabo/movie-review-data (section \"Sentiment polarity datasets\"). This dataset contains 1000 positive and 1000 negative reviews, each tokenised, sentence-split (one sentence per line) and lowercased. Each review has been assigned to 1 of 10 cross-validation folds by the authors and this setup should be followed to compare with published results.\n"
   ]
  },
  {
   "cell_type": "code",
   "execution_count": 1,
   "metadata": {},
   "outputs": [
    {
     "name": "stderr",
     "output_type": "stream",
     "text": [
      "[nltk_data] Downloading package averaged_perceptron_tagger to\n",
      "[nltk_data]     /Users/ivan/nltk_data...\n",
      "[nltk_data]   Package averaged_perceptron_tagger is already up-to-\n",
      "[nltk_data]       date!\n",
      "[nltk_data] Downloading package stopwords to /Users/ivan/nltk_data...\n",
      "[nltk_data]   Package stopwords is already up-to-date!\n",
      "[nltk_data] Downloading package wordnet to /Users/ivan/nltk_data...\n",
      "[nltk_data]   Package wordnet is already up-to-date!\n"
     ]
    }
   ],
   "source": [
    "import os\n",
    "import tarfile\n",
    "import time\n",
    "import urllib.request\n",
    "import numpy\n",
    "import pandas as pd\n",
    "from sklearn.naive_bayes import MultinomialNB\n",
    "from sklearn import metrics\n",
    "import nltk\n",
    "import matplotlib.pyplot as plt\n",
    "from IPython.display import clear_output\n",
    "\n",
    "nltk.download('averaged_perceptron_tagger')\n",
    "nltk.download('stopwords')\n",
    "nltk.download('wordnet')\n",
    "\n",
    "data_source = 'local-folder'\n",
    "data_folder = os.path.join('data', 'txt_sentoken')"
   ]
  },
  {
   "cell_type": "code",
   "execution_count": 2,
   "metadata": {},
   "outputs": [],
   "source": [
    "class PL04DataLoader_Part_1:\n",
    "    \n",
    "    def __init__(self):\n",
    "        pass\n",
    "    \n",
    "    def get_labelled_dataset(self, fold = 0):\n",
    "        ''' Compile a fold of the data set\n",
    "        '''\n",
    "        dataset = []\n",
    "        for label in ('pos', 'neg'):\n",
    "            for document in self.get_documents(\n",
    "                fold = fold,\n",
    "                label = label,\n",
    "            ):\n",
    "                dataset.append((document, label))\n",
    "        return dataset\n",
    "    \n",
    "    def get_documents(self, fold = 0, label = 'pos'):\n",
    "        ''' Enumerate the raw contents of all data set files.\n",
    "            Args:\n",
    "                data_dir: relative or absolute path to the data set folder\n",
    "                fold: which fold to load (0 to n_folds-1)\n",
    "                label: 'pos' or 'neg' to\n",
    "                    select data with positive or negative sentiment\n",
    "                    polarity\n",
    "            Return:\n",
    "                List of tokenised documents, each a list of sentences\n",
    "                that in turn are lists of tokens\n",
    "        '''\n",
    "        raise NotImplementedError"
   ]
  },
  {
   "cell_type": "code",
   "execution_count": 3,
   "metadata": {},
   "outputs": [],
   "source": [
    "class PL04DataLoader(PL04DataLoader_Part_1):\n",
    "    \n",
    "    def get_xval_splits(self):\n",
    "        ''' Split data with labels for cross-validation\n",
    "            returns a list of k pairs (training_data, test_data)\n",
    "            for k cross-validation\n",
    "        '''\n",
    "        # load the folds\n",
    "        folds = []\n",
    "        for i in range(10):\n",
    "            folds.append(self.get_labelled_dataset(\n",
    "                fold = i\n",
    "            ))\n",
    "        # create training-test splits\n",
    "        retval = []\n",
    "        for i in range(10):\n",
    "            test_data = folds[i]\n",
    "            training_data = []\n",
    "            for j in range(9):\n",
    "                ij1 = (i+j+1) % 10\n",
    "                assert ij1 != i\n",
    "                training_data = training_data + folds[ij1]\n",
    "            retval.append((training_data, test_data))\n",
    "        return retval"
   ]
  },
  {
   "cell_type": "code",
   "execution_count": 4,
   "metadata": {},
   "outputs": [],
   "source": [
    "class PL04DataLoaderFromStream(PL04DataLoader):\n",
    "        \n",
    "    def __init__(self, tgz_stream, **kwargs):\n",
    "        super().__init__(**kwargs)\n",
    "        self.data = {}\n",
    "        counter = 0\n",
    "        with tarfile.open(\n",
    "            mode = 'r|gz',\n",
    "            fileobj = tgz_stream\n",
    "        ) as tar_archive:\n",
    "            for tar_member in tar_archive:\n",
    "                if counter == 2000:\n",
    "                    break\n",
    "                path_components = tar_member.name.split('/')\n",
    "                filename = path_components[-1]\n",
    "                if filename.startswith('cv') \\\n",
    "                and filename.endswith('.txt') \\\n",
    "                and '_' in filename:\n",
    "                    label = path_components[-2]\n",
    "                    fold = int(filename[2])\n",
    "                    key = (fold, label)\n",
    "                    if key not in self.data:\n",
    "                        self.data[key] = []\n",
    "                    f = tar_archive.extractfile(tar_member)\n",
    "                    document = [\n",
    "                        line.decode('utf-8').split()\n",
    "                        for line in f.readlines()\n",
    "                    ]\n",
    "                    self.data[key].append(document)\n",
    "                    counter += 1\n",
    "            \n",
    "    def get_documents(self, fold = 0, label = 'pos'):\n",
    "        return self.data[(fold, label)]"
   ]
  },
  {
   "cell_type": "markdown",
   "metadata": {},
   "source": [
    "## Read Data from the Web\n",
    "This should run efficiently both on google colab and locally but has the disadvantage that the same data is downloaded each time the notebook is run."
   ]
  },
  {
   "cell_type": "code",
   "execution_count": 5,
   "metadata": {},
   "outputs": [],
   "source": [
    "class PL04DataLoaderFromURL(PL04DataLoaderFromStream):\n",
    "    \n",
    "    def __init__(self, data_url, **kwargs):\n",
    "        with urllib.request.urlopen(data_url) as tgz_stream:\n",
    "            super().__init__(tgz_stream, **kwargs)"
   ]
  },
  {
   "cell_type": "markdown",
   "metadata": {},
   "source": [
    "## Read Data from a Local .tgz File\n",
    "\n",
    "You manually download the .tgz once to a filesystem that can be accessed from the notebook, e.g. google drive on colab, and this notebook reads this file in one chunk. \n",
    "\n",
    "Note that if you are accessing files from google drive on colab, you will need to mount your drive and enter an authentication token:\n",
    "\n",
    "```\n",
    "from google.colab import drive\n",
    "drive.mount('/content/drive')\n",
    "```\n",
    "\n",
    "You will also have to change your *data_tgz* or *data_folder* paths above so that they start with *'/content/drive/My Drive/'*"
   ]
  },
  {
   "cell_type": "code",
   "execution_count": 6,
   "metadata": {},
   "outputs": [],
   "source": [
    "class PL04DataLoaderFromTGZ(PL04DataLoaderFromStream):\n",
    "    \n",
    "    def __init__(self, data_path, **kwargs):\n",
    "        with open(data_path, 'rb') as tgz_stream:\n",
    "            super().__init__(tgz_stream, **kwargs)"
   ]
  },
  {
   "cell_type": "markdown",
   "metadata": {},
   "source": [
    "## Read Data from a Local Folder\n",
    "\n",
    "Extract the .tgz to a local folder and only load the required files. This is usually the fastest option when storage is on a local SSD. On remote filesystems, however, this can be very slow."
   ]
  },
  {
   "cell_type": "code",
   "execution_count": 7,
   "metadata": {},
   "outputs": [],
   "source": [
    "class PL04DataLoaderFromFolder(PL04DataLoader):\n",
    "    \n",
    "    def __init__(self, data_dir, **kwargs):\n",
    "        self.data_dir = data_dir\n",
    "        super().__init__(**kwargs)\n",
    "        \n",
    "    def get_documents(self, fold = 0, label = 'pos'):\n",
    "        # read folder contents\n",
    "        path = os.path.join(self.data_dir, label)\n",
    "        dir_entries = os.listdir(path)\n",
    "        # must process entries in numeric order to\n",
    "        # replicate order of original experiments\n",
    "        dir_entries.sort()\n",
    "        # check each entry and add to data if matching\n",
    "        # selection criteria\n",
    "        for filename in dir_entries:\n",
    "            if filename.startswith('cv') \\\n",
    "            and filename.endswith('.txt'):\n",
    "                if fold == int(filename[2]):\n",
    "                    # correct fold\n",
    "                    f = open(os.path.join(path, filename), 'rt')\n",
    "                    # \"yield\" tells Python to return an iterator\n",
    "                    # object that produces the yields of this\n",
    "                    # function as elements without creating a\n",
    "                    # full list of all elements\n",
    "                    yield [line.split() for line in f.readlines()]\n",
    "                    f.close()"
   ]
  },
  {
   "cell_type": "code",
   "execution_count": 8,
   "metadata": {},
   "outputs": [],
   "source": [
    "if data_source == 'local-folder':\n",
    "    data_loader = PL04DataLoaderFromFolder(data_folder)\n",
    "elif data_source == 'local-tgz':\n",
    "    data_loader = PL04DataLoaderFromTGZ(data_tgz)\n",
    "elif data_source == 'web':\n",
    "    data_loader = PL04DataLoaderFromURL(data_url)\n",
    "else:\n",
    "    raise ValueError('Unsupported data source %r' %data_source)"
   ]
  },
  {
   "cell_type": "code",
   "execution_count": 9,
   "metadata": {},
   "outputs": [
    {
     "name": "stdout",
     "output_type": "stream",
     "text": [
      "== pos ==\n",
      "doc sentences start of first sentence\n",
      "  0      25   films|adapted|from|comic|books|have|had|plenty|of|success|,|whether\n",
      "  1      39   every|now|and|then|a|movie|comes|along|from|a|suspect|studio|,|with\n",
      "  2      19   you've|got|mail|works|alot|better|than|it|deserves|to|.|in|order|to|make\n",
      "  3      42   \"|jaws|\"|is|a|rare|film|that|grabs|your|attention|before|it|shows|you|a\n",
      "  4      25   moviemaking|is|a|lot|like|being|the|general|manager|of|an|nfl|team|in\n",
      "== neg ==\n",
      "doc sentences start of first sentence\n",
      "  0      35   plot|:|two|teen|couples|go|to|a|church|party|,|drink|and|then|drive|.\n",
      "  1      13   the|happy|bastard's|quick|movie|review|damn|that|y2k|bug|.|it's|got|a\n",
      "  2      23   it|is|movies|like|these|that|make|a|jaded|movie|viewer|thankful|for|the\n",
      "  3      19   \"|quest|for|camelot|\"|is|warner|bros|.|'|first|feature-length|,\n",
      "  4      37   synopsis|:|a|mentally|unstable|man|undergoing|psychotherapy|saves|a|boy\n"
     ]
    }
   ],
   "source": [
    "def get_document_preview(document, max_length = 72):\n",
    "    s = []\n",
    "    count = 0\n",
    "    reached_limit = False\n",
    "    for sentence in document:\n",
    "        for token in sentence:\n",
    "            if count + len(token) + len(s) > max_length:\n",
    "                reached_limit = True\n",
    "                break\n",
    "            s.append(token)\n",
    "            count += len(token)\n",
    "        if reached_limit:\n",
    "            break\n",
    "    return '|'.join(s)\n",
    "    \n",
    "for label in 'pos neg'.split():\n",
    "    print(f'== {label} ==')\n",
    "    print('doc sentences start of first sentence')\n",
    "    for index, document in enumerate(data_loader.get_documents(\n",
    "        label = label\n",
    "    )):\n",
    "        print('%3d %7d   %s' %(\n",
    "            index, len(document), get_document_preview(document)\n",
    "        ))\n",
    "        if index == 4:\n",
    "            break"
   ]
  },
  {
   "cell_type": "markdown",
   "metadata": {},
   "source": [
    "## Create Training-Test Splits for Cross-Validation"
   ]
  },
  {
   "cell_type": "code",
   "execution_count": 10,
   "metadata": {},
   "outputs": [
    {
     "name": "stdout",
     "output_type": "stream",
     "text": [
      "tr-size te-size (number of documents)\n",
      "   1800     200\n",
      "   1800     200\n",
      "   1800     200\n",
      "   1800     200\n",
      "   1800     200\n",
      "   1800     200\n",
      "   1800     200\n",
      "   1800     200\n",
      "   1800     200\n",
      "   1800     200\n"
     ]
    }
   ],
   "source": [
    "splits = data_loader.get_xval_splits()\n",
    "\n",
    "print('tr-size te-size (number of documents)')\n",
    "for xval_tr_data, xval_te_data in splits:\n",
    "    print('%7d %7d' %(len(xval_tr_data), len(xval_te_data)))"
   ]
  },
  {
   "cell_type": "markdown",
   "metadata": {},
   "source": [
    "# Changes to Code"
   ]
  },
  {
   "cell_type": "markdown",
   "metadata": {},
   "source": [
    "Below we outline the changes we made to the existing code."
   ]
  },
  {
   "cell_type": "markdown",
   "metadata": {},
   "source": [
    "## N-gram Features"
   ]
  },
  {
   "cell_type": "markdown",
   "metadata": {},
   "source": [
    "The first change which we implemented in the code was to add bigram and trigram feature sets. We initialised two extra sets in order to store the bigrams and trigrams in the *reset_feature_sets* function. The bigrams and trigrams were then added to these new sets in the *add_to_feature_sets_from_data* function.\n",
    "\n",
    "This was done by checking if the index of the token was greater than zero before adding bigrams and checking if it was greater than one before adding trigrams. We also escaped the start and end of sentences using the respective '\\<s>' and '\\</s>' tags. In the *finalise_feature_sets* function, a reverse map dictionary is created for both bigrams and trigrams, similar to that which was done for unigrams originally. This enables faster lookup when populating the feature matrix.\n",
    "\n",
    "In order to store a feature matrix for each implementation, we originally created a *feature_matrices* dict in the *extract_features* function. However, when building all three feature matrices, computation time proved to be too long. Therefore, in order to save time in computations, only the feature matrix which is being used (either unigram, bigram or trigram), is populated in the function."
   ]
  },
  {
   "cell_type": "markdown",
   "metadata": {},
   "source": [
    "## Lemmatisation"
   ]
  },
  {
   "cell_type": "markdown",
   "metadata": {},
   "source": [
    "We also included a lemmatisation step which can be toggled when running the model. This step essentially converts each word in the vocabulary to its base form. The lemmatiser which we opted to use is [Wordnet](https://wordnet.princeton.edu/), which is a large, freely available lexical database for the English language. This lemmatiser was downloaded and accessed through the NLTK toolkit. It is implemented in the *lemmatise_data* function.\n",
    "\n",
    "As a second argument to the lemmatiser, we also pass the Wordnet POS tag for the word. We find the [Penn POS tag](https://www.ling.upenn.edu/courses/Fall_2003/ling001/penn_treebank_pos.html) for each word using *nltk.pos_tag(word)* in the *get_pos_tags* function. This tagged data is then passed to the *lemmatise_data* function where the tags are then mapped to the much simpler Wornet POS tags before being passed into the lemmatiser with each word."
   ]
  },
  {
   "cell_type": "markdown",
   "metadata": {},
   "source": [
    "## Negation"
   ]
  },
  {
   "cell_type": "markdown",
   "metadata": {},
   "source": [
    "Another option which can be toggled when running the model is whether to negate the data or not. Negation is performed in the *add_negation_to_data* function. This function essentially checks if a token is \"not\", \"no\" or ends in \"n't\". When one of these tokens is found, each token following this has \"NOT_\" prefixed to it until the next full stop in the data. This is a simple but effective way to perform negation.\n",
    "\n",
    "In the aforementioned function, a vector is also created, called *doc2negate*, which stores the number of negated words in each document. This will be used later on to create additional features. "
   ]
  },
  {
   "cell_type": "markdown",
   "metadata": {},
   "source": [
    "## Stop Word Removal"
   ]
  },
  {
   "cell_type": "markdown",
   "metadata": {},
   "source": [
    "We also created a parameter in our model for removing stop words. The list of stop words which we used is from the English stop word list accessed through NLTK. These are shown below.\n",
    "\n",
    "Stop words are removed from the data in the *remove_stopwords_from_data* function. This function works by storing the indices of stop words when iterating through each sentence and then removing these from the list of sentence tokens."
   ]
  },
  {
   "cell_type": "code",
   "execution_count": 11,
   "metadata": {},
   "outputs": [
    {
     "name": "stdout",
     "output_type": "stream",
     "text": [
      "{'will', 'while', 'some', 'did', 'he', 'only', 'wouldn', \"isn't\", 'until', 'whom', 'if', 'didn', 'hers', 'all', 've', 'mustn', 'there', 'this', 'other', \"doesn't\", 'during', 'yourselves', 'myself', 'hasn', 'each', 'down', 'does', \"mightn't\", 'with', \"you'll\", 'than', 'been', 'doing', 'few', \"mustn't\", 'doesn', 'when', 's', 'wasn', 'but', 'through', 'own', 'i', 'here', 'not', 'against', 'weren', 'between', 'm', \"should've\", \"hadn't\", 'shan', \"haven't\", 'their', 'once', 'where', 'up', 'of', 'that', 'nor', \"you're\", \"that'll\", 'most', \"wasn't\", 'out', 'do', 'has', 'because', 'again', \"couldn't\", 'both', 'its', \"shan't\", 'themselves', 'my', \"wouldn't\", 'having', 'hadn', 'yours', 'ma', 'won', 'have', 'for', 'his', 'me', 'now', 'were', 'theirs', 'which', 'and', 'being', 'over', 'our', 'her', 'are', 'why', 'had', 'these', 'should', 'you', \"she's\", 'an', 'before', 'in', 'needn', 'off', 'she', 'just', 'him', 'no', \"won't\", 'ourselves', \"needn't\", 'be', 'mightn', 'a', 'more', 'them', 'we', 'am', 'they', 'shouldn', 'too', \"weren't\", 'haven', 'can', 'how', 'ours', \"shouldn't\", 'below', 'by', 'aren', 'as', 'what', 'any', 'such', \"aren't\", 'to', 'was', 'itself', \"don't\", \"didn't\", 'then', 'd', 'don', 'above', 'o', 'about', \"hasn't\", 'the', 'll', 'is', 'isn', 'same', 'couldn', 'your', 'who', 'yourself', 'under', 'further', 'after', 'herself', 't', 'y', 're', 'into', 'very', 'from', \"you'd\", 'or', 'so', 'himself', 'at', 'on', \"it's\", 'it', \"you've\", 'those', 'ain'}\n"
     ]
    }
   ],
   "source": [
    "print(set(nltk.corpus.stopwords.words('english')))\n"
   ]
  },
  {
   "cell_type": "markdown",
   "metadata": {},
   "source": [
    "## Additional Features"
   ]
  },
  {
   "cell_type": "markdown",
   "metadata": {},
   "source": [
    "The final thing which we implemented was the creation of 3 new additional features. The first of these is formed from the *doc2negate* vector mentioned above. This vector shows the number of negated terms in each document. The second and third of these additional features represent positive and negative lexicons respectively. Similar to the *doc2negate* vector, they show the number of terms in each document which are found in positive and negative sentiment lexicons.  \n",
    "  \n",
    "The sentiment lexicon which we used was the [MPQA Subjectivity Lexicon](http://mpqa.cs.pitt.edu/lexicons/subj_lexicon/). It contains 1340 positive and 2441 negative terms.  \n",
    "  \n",
    "These 3 vectors are appended to the feature matrix which was created in the *extract_features* function."
   ]
  },
  {
   "cell_type": "markdown",
   "metadata": {},
   "source": [
    "# Interface for Sentiment Polarity Predictor\n",
    "Let's define a base class to clarify how we plan to use polarity predictors. Its functions will have to be implemented in sub-classes."
   ]
  },
  {
   "cell_type": "code",
   "execution_count": 12,
   "metadata": {},
   "outputs": [],
   "source": [
    "class PolarityPredictorInterface:\n",
    "\n",
    "    def train(self, data_with_labels):\n",
    "        raise NotImplementedError\n",
    "        \n",
    "    def predict(self, data):\n",
    "        raise NotImplementedError"
   ]
  },
  {
   "cell_type": "code",
   "execution_count": 13,
   "metadata": {},
   "outputs": [],
   "source": [
    "class PolarityPredictorInit(PolarityPredictorInterface):\n",
    "    \n",
    "    def train(self, data_with_labels, feature):\n",
    "        \"\"\"\n",
    "        Function which trains model.\n",
    "        \n",
    "        Lemmatisation, negation and removal of stopwords are performed on the data first.\n",
    "        \n",
    "        Then the feature matrix is created using extract_features function.\n",
    "        \n",
    "        This will be based on bag of unigrams, bigrams or trigrams depending on input.\n",
    "        \n",
    "        The targets are then fetched and passed to the learning model for training.\n",
    "        \"\"\"\n",
    "\n",
    "        # Initialise ngram set objects\n",
    "        self.reset_feature_sets()\n",
    "\n",
    "        if self.lemmatise:\n",
    "            \"\"\"\n",
    "            Get Penn POS tags\n",
    "            Convert to WordNet POS tags and retrieve lemma\n",
    "            Reset data\n",
    "            \"\"\"\n",
    "            tagged_data = self.get_pos_tags(data_with_labels)\n",
    "            lemmatised_data = self.lemmatise_data(tagged_data)\n",
    "            data_with_labels = lemmatised_data\n",
    "        \n",
    "        if self.negation:\n",
    "            \"\"\"\n",
    "            'NOT_' is added to tokens which are negated.\n",
    "            \"\"\"\n",
    "            self.add_negation_to_data(data_with_labels)\n",
    "            \n",
    "        if self.remove_stopwords:\n",
    "            \"\"\"\n",
    "            Stopwords are retrieved from NLTK library and are removed if found in the data.\n",
    "            \"\"\"\n",
    "            self.get_stopwords()\n",
    "            self.remove_stopwords_from_data(data_with_labels)\n",
    "            \n",
    "            \n",
    "        self.add_to_feature_sets_from_data(data_with_labels)\n",
    "        self.finalise_feature_sets()\n",
    "        \n",
    "        tr_features = self.extract_features(data_with_labels, feature)\n",
    "        \n",
    "        if self.additional_features:\n",
    "            \"\"\"\n",
    "            Additional features: (for each document)\n",
    "            Positive sentiment lexicon counts \n",
    "            Negative sentiment lexicon counts\n",
    "            Negated word counts\n",
    "            Added as columns to existing feature matrix\n",
    "            \"\"\"\n",
    "            self.get_sentiment_lexicons()\n",
    "            tr_features = self.add_additional_features(data_with_labels, tr_features, self.negation)\n",
    "            \n",
    "        tr_targets = self.get_targets(data_with_labels)\n",
    "        self.train_model_on_features(tr_features, tr_targets)\n",
    "\n",
    "    def reset_feature_sets(self):\n",
    "        self.unigrams = set()\n",
    "        self.bigrams = set()\n",
    "        self.trigrams = set()\n",
    "    \n",
    "    def get_pos_tags(self, data):\n",
    "        tagged_data = []\n",
    "        for document, label in data:\n",
    "            new_document = []\n",
    "            for sentence in document:\n",
    "                tagged_sentence = nltk.pos_tag(sentence)\n",
    "                new_document.append(tagged_sentence)\n",
    "            new_entry = (new_document, label)\n",
    "            tagged_data.append(new_entry)\n",
    "        return tagged_data\n",
    "\n",
    "    def lemmatise_data(self, data):\n",
    "        \"\"\"\n",
    "        POS has been retieved as in Penn form\n",
    "        We convert to WordNet form by taking first letter of Penn POS\n",
    "        \"\"\"\n",
    "        lemmatizer = nltk.stem.WordNetLemmatizer()\n",
    "        for document, label in data:\n",
    "            for sentence in document:\n",
    "                for index, token in enumerate(sentence):\n",
    "                    word = token[0]\n",
    "                    penn_pos = token[1]\n",
    "                    if penn_pos[0] == 'N':\n",
    "                        wn_pos = nltk.corpus.wordnet.NOUN\n",
    "                    elif penn_pos[0] == 'J':\n",
    "                        wn_pos = nltk.corpus.wordnet.ADJ\n",
    "                    elif penn_pos[0] == 'V':\n",
    "                        wn_pos = nltk.corpus.wordnet.VERB\n",
    "                    elif penn_pos[0] == 'R':\n",
    "                        wn_pos = nltk.corpus.wordnet.ADV\n",
    "                    else:\n",
    "                        sentence[index] = lemmatizer.lemmatize(word)\n",
    "                        continue\n",
    "                    sentence[index] = lemmatizer.lemmatize(word, wn_pos)\n",
    "        return data\n",
    "    \n",
    "    def add_negation_to_data(self, data):\n",
    "        \"\"\"\n",
    "        if 'no' or 'not' or \"...n't\" are found, \n",
    "        words are negated until end of sentence.\n",
    "        \"\"\"\n",
    "        self.doc2negate = []\n",
    "        for document, label in data:\n",
    "            negate_total = 0\n",
    "            for sentence in document:\n",
    "                negate = False\n",
    "                for index, token in enumerate(sentence):\n",
    "                    if token in ('not', 'no') or (token[-3:] == \"n't\"):\n",
    "                        negate = True\n",
    "                        continue\n",
    "                    if token == '.':\n",
    "                        negate = False\n",
    "                    if negate:\n",
    "                        sentence[index] = 'NOT_' + token\n",
    "                        negate_total += 1\n",
    "            self.doc2negate.append(negate_total)\n",
    "    \n",
    "    def remove_stopwords_from_data(self, data):\n",
    "        for document, label in data:\n",
    "            for sentence in document:\n",
    "                stopword_indices = []\n",
    "                for index, token in enumerate(sentence):\n",
    "                    if token in self.stopwords:\n",
    "                        stopword_indices.append(index)\n",
    "                stopword_indices.reverse()\n",
    "                # we delete stopwords in place, by deleting the latest index first.\n",
    "                for index in stopword_indices:\n",
    "                    del sentence[index]\n",
    "    \n",
    "    def get_stopwords(self):\n",
    "        self.stopwords = set(nltk.corpus.stopwords.words('english'))\n",
    "    \n",
    "    def get_sentiment_lexicons(self):\n",
    "        \"\"\"\n",
    "        We form lists of positive and negative sentiment lexicons.\n",
    "        We used data from MPQA: http://mpqa.cs.pitt.edu/lexicons/subj_lexicon/\n",
    "        \"\"\"\n",
    "        sentiment_lexicon_data = \"data/sentiment_lexicons.tff\"\n",
    "    \n",
    "        self.positive_lexicons = []\n",
    "        self.negative_lexicons = []\n",
    "        with open(sentiment_lexicon_data, 'r') as f:\n",
    "            while len(f.readline()) != 0:\n",
    "                toks = f.readline().split()\n",
    "                word = toks[2].split(\"=\")[1]\n",
    "                polarity = toks[-1].split(\"=\")[1]\n",
    "                if polarity in (\"positive\", \"negative\"):\n",
    "                    if polarity == 'positive':\n",
    "                        self.positive_lexicons.append(word)\n",
    "                    if polarity == 'negative':\n",
    "                        self.negative_lexicons.append(word)\n",
    "        \n",
    "    def add_to_feature_sets_from_data(self, data):\n",
    "        \"\"\"\n",
    "        Parses tokens in data and adds them to each feature set.\n",
    "        \"\"\"\n",
    "        for document, label in data:\n",
    "            for sentence in document:\n",
    "                sentence.insert(0, '<s>')\n",
    "                sentence.append('</s>')\n",
    "                prev_token = None\n",
    "                for index, token in enumerate(sentence):\n",
    "                    self.unigrams.add(token)\n",
    "                    if index > 0:\n",
    "                        bigram = (prev_token, token)\n",
    "                        self.bigrams.add(bigram)\n",
    "                    if index > 1:\n",
    "                        trigram = (prev_prev_token, prev_token, token)\n",
    "                        self.trigrams.add(trigram)\n",
    "                    prev_prev_token = prev_token\n",
    "                    prev_token = token\n",
    "                        \n",
    "    def finalise_feature_sets(self):\n",
    "        \"\"\"\n",
    "        Creates a dict for the feature sets for faster operations.\n",
    "        \"\"\"\n",
    "        self.unigrams = list(self.unigrams)\n",
    "        # create reverse map for fast token lookup\n",
    "        self.unigram2index = {}\n",
    "        for index, token in enumerate(self.unigrams):\n",
    "            self.unigram2index[token] = index\n",
    "            \n",
    "        self.bigrams = list(self.bigrams)\n",
    "        # create reverse map for fast token lookup\n",
    "        self.bigram2index = {}\n",
    "        for index, token in enumerate(self.bigrams):\n",
    "            self.bigram2index[token] = index\n",
    "            \n",
    "        self.trigrams = list(self.trigrams)\n",
    "        # create reverse map for fast token lookup\n",
    "        self.trigram2index = {}\n",
    "        for index, token in enumerate(self.trigrams):\n",
    "            self.trigram2index[token] = index\n",
    "        \n",
    "        \n",
    "    def extract_features(self, data, feature):\n",
    "        raise NotImplementedError\n",
    "    \n",
    "    def get_targets(self, data, label2index = None):\n",
    "        raise NotImplementedError\n",
    "        \n",
    "    def train_model_on_features(self, tr_features, tr_targets):\n",
    "        raise NotImplementedError"
   ]
  },
  {
   "cell_type": "code",
   "execution_count": 14,
   "metadata": {},
   "outputs": [],
   "source": [
    "class PolarityPredictorExtractFeatures(PolarityPredictorInit):\n",
    "    \n",
    "    def __init__(self, clip_counts = True, negation=False, remove_stopwords=False, lemmatise=False, additional_features=False, learning_model=MultinomialNB()):\n",
    "        self.clip_counts = clip_counts\n",
    "        self.negation = negation\n",
    "        self.remove_stopwords = remove_stopwords\n",
    "        self.model = learning_model\n",
    "        self.lemmatise = lemmatise\n",
    "        self.additional_features = additional_features\n",
    "        \n",
    "    def extract_features(self, data, ngram):\n",
    "        \"\"\"\n",
    "        Creates features from the data.\n",
    "        Depending on the input, a feature matrix for bag of words, bag of bigrams or bag of trigrams is created.\n",
    "        \"\"\"\n",
    "        rows = len(data)\n",
    "        feature_matrices = {}\n",
    "        # Initialise a feature matrix with zeros\n",
    "        feature_matrices['unigram'] = numpy.zeros((rows, len(self.unigrams)), dtype=numpy.int32)\n",
    "        feature_matrices['bigram'] = numpy.zeros((rows, len(self.bigrams)), dtype=numpy.int32)\n",
    "        feature_matrices['trigram'] = numpy.zeros((rows, len(self.trigrams)), dtype=numpy.int32)\n",
    "        # populate feature matrix\n",
    "        for row, item in enumerate(data):\n",
    "            document, _ = item\n",
    "            for sentence in document:\n",
    "                if sentence[0] != '<s>':\n",
    "                    sentence.insert(0, '<s>')\n",
    "                if sentence[-1] != '</s>':\n",
    "                    sentence.append('</s>')\n",
    "                prev_token = None\n",
    "                for idx, token in enumerate(sentence):\n",
    "                    if ngram == 'unigram':\n",
    "                        try:\n",
    "                            unigram_index = self.unigram2index[token]\n",
    "                        except KeyError:\n",
    "                            continue\n",
    "                        if self.clip_counts:\n",
    "                            feature_matrices['unigram'][row, unigram_index] = 1\n",
    "                        else:\n",
    "                            feature_matrices['unigram'][row, unigram_index] += 1\n",
    "                    if ngram == 'bigram':\n",
    "                        if idx > 0:\n",
    "                            bigram = (prev_token, token)\n",
    "                            try:\n",
    "                                bigram_index = self.bigram2index[bigram]\n",
    "                            except KeyError:\n",
    "                                continue\n",
    "                            if self.clip_counts:\n",
    "                                feature_matrices['bigram'][row, bigram_index] = 1\n",
    "                            else:\n",
    "                                feature_matrices['bigram'][row, bigram_index] += 1\n",
    "                    if ngram == 'trigram':\n",
    "                        if idx > 1:\n",
    "                            trigram = (prev_prev_token, prev_token, token)\n",
    "                            try:\n",
    "                                trigram_index = self.trigram2index[trigram]\n",
    "                            except KeyError:\n",
    "                                continue\n",
    "                            if self.clip_counts:\n",
    "                                feature_matrices['trigram'][row, trigram_index] = 1\n",
    "                            else:\n",
    "                                feature_matrices['trigram'][row, trigram_index] += 1\n",
    "\n",
    "                    prev_prev_token = prev_token\n",
    "                    prev_token = token\n",
    "        return feature_matrices[ngram]\n",
    "        \n",
    "    def add_additional_features(self, data, feature_matrix, negation):\n",
    "        \"\"\"\n",
    "        Additional features representing number of positive lexicons, number of negative lexicons\n",
    "        and number of negated words are added to the existing feature matrix built above.\n",
    "        \"\"\"\n",
    "        self.doc2poslex = []\n",
    "        self.doc2neglex = []\n",
    "        for row, item in enumerate(data):\n",
    "            document, _ = item\n",
    "            doc_pos_tot = 0\n",
    "            doc_neg_tot = 0\n",
    "            for sentence in document:\n",
    "                for token in sentence:\n",
    "                    if token in self.positive_lexicons:\n",
    "                        doc_pos_tot += 1\n",
    "                    if token in self.negative_lexicons:\n",
    "                        doc_neg_tot += 1\n",
    "            self.doc2poslex.append(doc_pos_tot)\n",
    "            self.doc2neglex.append(doc_neg_tot)\n",
    "        if negation:\n",
    "            additional_features = numpy.array((self.doc2negate, self.doc2poslex, self.doc2neglex)).T\n",
    "        else:\n",
    "            additional_features = numpy.array((self.doc2poslex, self.doc2neglex)).T\n",
    "        new_feature_matrix = numpy.append(feature_matrix, additional_features, 1)\n",
    "        return new_feature_matrix"
   ]
  },
  {
   "cell_type": "code",
   "execution_count": 15,
   "metadata": {},
   "outputs": [],
   "source": [
    "class PolarityPredictorAssignTargets(PolarityPredictorExtractFeatures):\n",
    " \n",
    "    def get_targets(self, data):\n",
    "        ''' \n",
    "        Column vector with target labels is created.\n",
    "        '''\n",
    "        targets = numpy.zeros(len(data), dtype=numpy.int8)\n",
    "        index = 0\n",
    "        for _, label in data:\n",
    "            if label == 'pos':\n",
    "                targets[index] = 1\n",
    "            index += 1\n",
    "        return targets\n",
    "\n",
    "    def train_model_on_features(self, tr_features, tr_targets):\n",
    "        raise NotImplementedError"
   ]
  },
  {
   "cell_type": "code",
   "execution_count": 16,
   "metadata": {},
   "outputs": [],
   "source": [
    "class PolarityPredictor(PolarityPredictorAssignTargets):\n",
    "\n",
    "    def train_model_on_features(self, tr_features, tr_targets):\n",
    "        self.model.fit(tr_features, tr_targets)\n",
    "        \n",
    "    def predict(self, data, feature, get_accuracy = False, get_confusion_matrix = False):\n",
    "        \n",
    "        if self.lemmatise:\n",
    "            tagged_data = self.get_pos_tags(data)\n",
    "            lemmatised_data = self.lemmatise_data(tagged_data)\n",
    "            data = lemmatised_data\n",
    "        \n",
    "        if self.negation:\n",
    "            self.add_negation_to_data(data)\n",
    "        \n",
    "        if self.remove_stopwords:\n",
    "            self.remove_stopwords_from_data(data)\n",
    "        \n",
    "        features = self.extract_features(data, feature)\n",
    "        \n",
    "        if self.additional_features:\n",
    "            self.get_sentiment_lexicons()\n",
    "            features = self.add_additional_features(data, features, self.negation)\n",
    "            \n",
    "        y_pred = self.model.predict(features)\n",
    "        \n",
    "        labels = []\n",
    "        for is_positive in y_pred:\n",
    "            if is_positive:\n",
    "                labels.append('pos')\n",
    "            else:\n",
    "                labels.append('neg')\n",
    "                \n",
    "        if get_accuracy or get_confusion_matrix:\n",
    "            retval = []\n",
    "            retval.append(labels)\n",
    "            y_true = self.get_targets(data)\n",
    "            if get_accuracy:\n",
    "                retval.append(metrics.accuracy_score(y_true, y_pred))\n",
    "            if get_confusion_matrix:\n",
    "                retval.append(metrics.confusion_matrix(y_true, y_pred))\n",
    "            return retval\n",
    "        else:\n",
    "            return labels"
   ]
  },
  {
   "cell_type": "markdown",
   "metadata": {},
   "source": [
    "# Experiments"
   ]
  },
  {
   "cell_type": "markdown",
   "metadata": {},
   "source": [
    "## Evaluation Table"
   ]
  },
  {
   "cell_type": "markdown",
   "metadata": {},
   "source": [
    "Our model builds three different feature representations from the input data:\n",
    "* Bag-of-Words (Unigrams)\n",
    "* Bag-of-Bigrams\n",
    "* Bag-of-Trigrams\n",
    "\n",
    "The *PolarityPredictor* model takes in a *feature* parameter which specifies which feature of the above to use. There is also a *learning_model* parameter which specifies which particular learning model to use.\n",
    "\n",
    "The model can also be tweaked to perform the following:\n",
    "* Clip Counts in feature matrices\n",
    "* Negation\n",
    "* Removal of StopWords\n",
    "* Lemmatisation\n",
    "* Include additional features"
   ]
  },
  {
   "cell_type": "markdown",
   "metadata": {},
   "source": [
    "We plan to run many different experiments using different feature representations and different learning models.   Therefore, having an evaluation table which contains the details of each experiment and the corresponding evalation results will be useful. \n",
    "The following values will be recorded in the dataframe for each model:\n",
    "* Average 10 Fold Cross-Validation Accuracy\n",
    "* Root Mean Square Error (RMSE)\n",
    "* Minimum Accuracy\n",
    "* Maximum Accuracy\n",
    "\n",
    "Below, we define table to store these."
   ]
  },
  {
   "cell_type": "code",
   "execution_count": 17,
   "metadata": {},
   "outputs": [],
   "source": [
    "def evaluate_model(model, splits, feature, verbose = False):\n",
    "    accuracies = []\n",
    "    fold = 0\n",
    "    for tr_data, te_data in splits:\n",
    "        if verbose:\n",
    "            print('Evaluating fold %d of %d' %(fold+1, len(splits)))\n",
    "            fold += 1\n",
    "        model.train(tr_data, feature)\n",
    "        _, accuracy = model.predict(te_data, feature, get_accuracy = True)\n",
    "        accuracies.append(accuracy)\n",
    "        if verbose:\n",
    "            print('-->', accuracy)\n",
    "    n = float(len(accuracies))\n",
    "    avg = sum(accuracies) / n\n",
    "    mse = sum([(x-avg)**2 for x in accuracies]) / n\n",
    "    return (avg, mse**0.5, min(accuracies),\n",
    "            max(accuracies))\n",
    "\n",
    "def print_first_predictions(model, te_data, feature, n = 12):\n",
    "    predictions = model.predict(te_data, feature)\n",
    "    for i in range(n):\n",
    "        document, label = te_data[i]\n",
    "        prediction = predictions[i]\n",
    "        print('%4d %s %s %s' %(i, label, prediction, get_document_preview(document),))"
   ]
  },
  {
   "cell_type": "markdown",
   "metadata": {},
   "source": [
    "# 1. Multinomial NB"
   ]
  },
  {
   "cell_type": "code",
   "execution_count": 18,
   "metadata": {},
   "outputs": [],
   "source": [
    "learning_model = MultinomialNB()"
   ]
  },
  {
   "cell_type": "markdown",
   "metadata": {},
   "source": [
    "## 1.1 Baseline"
   ]
  },
  {
   "cell_type": "code",
   "execution_count": 19,
   "metadata": {},
   "outputs": [],
   "source": [
    "evaluation_dataframes = {}\n",
    "evaluation_dataframes['MultinomialNB'] = pd.DataFrame(columns=['name', 'learning_model', 'feature', 'clip_counts', 'negation', 'remove_stopwords', 'lemmatise', 'additional_features', 'avg_cv_acc', 'rmse', 'min_acc', 'max_acc'])"
   ]
  },
  {
   "cell_type": "markdown",
   "metadata": {},
   "source": [
    "We run the baseline approach as a functionality test. The settings used are listed in the cell below."
   ]
  },
  {
   "cell_type": "code",
   "execution_count": 20,
   "metadata": {},
   "outputs": [],
   "source": [
    "clip_counts = True\n",
    "negation = False\n",
    "remove_stopwords = False\n",
    "lemmatise = False\n",
    "additional_features = False\n",
    "feature = 'unigram'"
   ]
  },
  {
   "cell_type": "code",
   "execution_count": 21,
   "metadata": {
    "scrolled": false
   },
   "outputs": [
    {
     "name": "stdout",
     "output_type": "stream",
     "text": [
      "Evaluating fold 1 of 10\n",
      "--> 0.795\n",
      "Evaluating fold 2 of 10\n",
      "--> 0.84\n",
      "Evaluating fold 3 of 10\n",
      "--> 0.84\n",
      "Evaluating fold 4 of 10\n",
      "--> 0.825\n",
      "Evaluating fold 5 of 10\n",
      "--> 0.835\n",
      "Evaluating fold 6 of 10\n",
      "--> 0.83\n",
      "Evaluating fold 7 of 10\n",
      "--> 0.84\n",
      "Evaluating fold 8 of 10\n",
      "--> 0.845\n",
      "Evaluating fold 9 of 10\n",
      "--> 0.785\n",
      "Evaluating fold 10 of 10\n",
      "--> 0.855\n"
     ]
    }
   ],
   "source": [
    "model = PolarityPredictor(clip_counts, negation, remove_stopwords, lemmatise, additional_features, learning_model)\n",
    "baseline_avg, baseline_rmse, baseline_min_acc, baseline_max_acc = evaluate_model(model, splits, feature, verbose = True)\n",
    "evaluation_dataframes['MultinomialNB'].loc[0] = ['baseline-NB', learning_model, feature, clip_counts, negation, remove_stopwords, lemmatise, additional_features, baseline_avg, baseline_rmse, baseline_min_acc, baseline_max_acc]"
   ]
  },
  {
   "cell_type": "markdown",
   "metadata": {},
   "source": [
    "So, the baseline approach achieves an average accuracy score of 82.4% and has been to our evaluation table. The format of this dataframe can be seen below,"
   ]
  },
  {
   "cell_type": "code",
   "execution_count": 22,
   "metadata": {},
   "outputs": [
    {
     "data": {
      "text/html": [
       "<div>\n",
       "<style scoped>\n",
       "    .dataframe tbody tr th:only-of-type {\n",
       "        vertical-align: middle;\n",
       "    }\n",
       "\n",
       "    .dataframe tbody tr th {\n",
       "        vertical-align: top;\n",
       "    }\n",
       "\n",
       "    .dataframe thead th {\n",
       "        text-align: right;\n",
       "    }\n",
       "</style>\n",
       "<table border=\"1\" class=\"dataframe\">\n",
       "  <thead>\n",
       "    <tr style=\"text-align: right;\">\n",
       "      <th></th>\n",
       "      <th>name</th>\n",
       "      <th>learning_model</th>\n",
       "      <th>feature</th>\n",
       "      <th>clip_counts</th>\n",
       "      <th>negation</th>\n",
       "      <th>remove_stopwords</th>\n",
       "      <th>lemmatise</th>\n",
       "      <th>additional_features</th>\n",
       "      <th>avg_cv_acc</th>\n",
       "      <th>rmse</th>\n",
       "      <th>min_acc</th>\n",
       "      <th>max_acc</th>\n",
       "    </tr>\n",
       "  </thead>\n",
       "  <tbody>\n",
       "    <tr>\n",
       "      <th>0</th>\n",
       "      <td>baseline-NB</td>\n",
       "      <td>MultinomialNB()</td>\n",
       "      <td>unigram</td>\n",
       "      <td>True</td>\n",
       "      <td>False</td>\n",
       "      <td>False</td>\n",
       "      <td>False</td>\n",
       "      <td>False</td>\n",
       "      <td>0.829</td>\n",
       "      <td>0.021071</td>\n",
       "      <td>0.785</td>\n",
       "      <td>0.855</td>\n",
       "    </tr>\n",
       "  </tbody>\n",
       "</table>\n",
       "</div>"
      ],
      "text/plain": [
       "          name   learning_model  feature clip_counts negation  \\\n",
       "0  baseline-NB  MultinomialNB()  unigram        True    False   \n",
       "\n",
       "  remove_stopwords lemmatise additional_features  avg_cv_acc      rmse  \\\n",
       "0            False     False               False       0.829  0.021071   \n",
       "\n",
       "   min_acc  max_acc  \n",
       "0    0.785    0.855  "
      ]
     },
     "execution_count": 22,
     "metadata": {},
     "output_type": "execute_result"
    }
   ],
   "source": [
    "evaluation_dataframes['MultinomialNB']"
   ]
  },
  {
   "cell_type": "markdown",
   "metadata": {},
   "source": [
    "## 1.2 Parameter Experimentation"
   ]
  },
  {
   "cell_type": "markdown",
   "metadata": {},
   "source": [
    "We will now run experiments using the MultinomialNB model with different parameters.\n"
   ]
  },
  {
   "cell_type": "code",
   "execution_count": 23,
   "metadata": {},
   "outputs": [
    {
     "name": "stdout",
     "output_type": "stream",
     "text": [
      "               name   learning_model  feature clip_counts negation  \\\n",
      "0       baseline-NB  MultinomialNB()  unigram        True    False   \n",
      "1    param-exp-NB-1  MultinomialNB()  unigram        True     True   \n",
      "2    param-exp-NB-2  MultinomialNB()  unigram        True     True   \n",
      "3    param-exp-NB-3  MultinomialNB()  unigram        True     True   \n",
      "4    param-exp-NB-4  MultinomialNB()  unigram        True     True   \n",
      "5    param-exp-NB-5  MultinomialNB()  unigram        True    False   \n",
      "6    param-exp-NB-6  MultinomialNB()  unigram        True    False   \n",
      "7    param-exp-NB-7  MultinomialNB()  unigram        True    False   \n",
      "8    param-exp-NB-8  MultinomialNB()  unigram        True    False   \n",
      "9    param-exp-NB-9  MultinomialNB()  unigram       False     True   \n",
      "10  param-exp-NB-10  MultinomialNB()  unigram       False     True   \n",
      "11  param-exp-NB-11  MultinomialNB()  unigram       False     True   \n",
      "12  param-exp-NB-12  MultinomialNB()  unigram       False     True   \n",
      "13  param-exp-NB-13  MultinomialNB()  unigram       False    False   \n",
      "14  param-exp-NB-14  MultinomialNB()  unigram       False    False   \n",
      "15  param-exp-NB-15  MultinomialNB()  unigram       False    False   \n",
      "16  param-exp-NB-16  MultinomialNB()  unigram       False    False   \n",
      "\n",
      "   remove_stopwords lemmatise additional_features  avg_cv_acc      rmse  \\\n",
      "0             False     False               False      0.8290  0.021071   \n",
      "1             False      True                True      0.8160  0.023854   \n",
      "2             False      True               False      0.8240  0.022672   \n",
      "3             False     False                True      0.8120  0.020273   \n",
      "4             False     False               False      0.8110  0.019723   \n",
      "5             False      True                True      0.8145  0.026311   \n",
      "6             False      True               False      0.8120  0.024515   \n",
      "7             False     False                True      0.8140  0.021307   \n",
      "8             False     False               False      0.8070  0.020273   \n",
      "9             False      True                True      0.7785  0.030418   \n",
      "10            False      True               False      0.7945  0.021148   \n",
      "11            False     False                True      0.7765  0.036128   \n",
      "12            False     False               False      0.7845  0.025539   \n",
      "13            False      True                True      0.7820  0.022494   \n",
      "14            False      True               False      0.7790  0.023216   \n",
      "15            False     False                True      0.7855  0.025045   \n",
      "16            False     False               False      0.7825  0.026856   \n",
      "\n",
      "    min_acc  max_acc  \n",
      "0     0.785    0.855  \n",
      "1     0.775    0.860  \n",
      "2     0.790    0.855  \n",
      "3     0.780    0.845  \n",
      "4     0.775    0.835  \n",
      "5     0.775    0.860  \n",
      "6     0.770    0.850  \n",
      "7     0.780    0.845  \n",
      "8     0.770    0.835  \n",
      "9     0.730    0.820  \n",
      "10    0.760    0.830  \n",
      "11    0.705    0.825  \n",
      "12    0.740    0.820  \n",
      "13    0.745    0.815  \n",
      "14    0.740    0.810  \n",
      "15    0.750    0.820  \n",
      "16    0.735    0.820  \n",
      "End\n"
     ]
    }
   ],
   "source": [
    "index = 1\n",
    "remove_stopwords = False\n",
    "feature = 'unigram'\n",
    "for clip_counts in (True, False):\n",
    "    for negation in (True, False):\n",
    "        for lemmatise in (True, False):\n",
    "            for additional_features in (True, False):\n",
    "                print('Start')\n",
    "                print(index)\n",
    "                model = PolarityPredictor(clip_counts, negation, remove_stopwords, lemmatise, additional_features, learning_model)\n",
    "                avg, rmse, min_acc, max_acc = evaluate_model(model, splits, feature, verbose = True)\n",
    "                evaluation_dataframes['MultinomialNB'].loc[evaluation_dataframes['MultinomialNB'].index.max()+1] = [f'param-exp-NB-{index}', learning_model, feature, clip_counts, \n",
    "                                                                  negation, remove_stopwords, lemmatise, additional_features, avg, rmse, min_acc, max_acc]\n",
    "                index += 1\n",
    "                clear_output(wait=True)\n",
    "                print(evaluation_dataframes['MultinomialNB'])\n",
    "                print('End')"
   ]
  },
  {
   "cell_type": "code",
   "execution_count": null,
   "metadata": {},
   "outputs": [
    {
     "name": "stdout",
     "output_type": "stream",
     "text": [
      "Start\n",
      "17\n",
      "Evaluating fold 1 of 10\n",
      "--> 0.785\n",
      "Evaluating fold 2 of 10\n",
      "--> 0.84\n",
      "Evaluating fold 3 of 10\n"
     ]
    }
   ],
   "source": [
    "feature = 'bigram'\n",
    "remove_stopwords = False\n",
    "for clip_counts in (True, False):\n",
    "    for negation in (True, False):\n",
    "        for lemmatise in [True, False]:\n",
    "            for additional_features in [True, False]:\n",
    "                print('Start')\n",
    "                print(index)\n",
    "                model = PolarityPredictor(clip_counts, negation, remove_stopwords, lemmatise, additional_features, learning_model)\n",
    "                avg, rmse, min_acc, max_acc = evaluate_model(model, splits, feature, verbose = True)\n",
    "                evaluation_dataframes['MultinomialNB'].loc[evaluation_dataframes['MultinomialNB'].index.max()+1] = [f'param-exp-NB-{index}', learning_model, feature, clip_counts, \n",
    "                                                                  negation, remove_stopwords, lemmatise, additional_features, avg, rmse, min_acc, max_acc]\n",
    "                index += 1\n",
    "                clear_output(wait=True)\n",
    "                print(evaluation_dataframes['MultinomialNB'])\n",
    "                print('End')"
   ]
  },
  {
   "cell_type": "code",
   "execution_count": null,
   "metadata": {},
   "outputs": [],
   "source": [
    "evaluation_dataframes['MultinomialNB'].to_csv('output/multinomialnb.csv')"
   ]
  },
  {
   "cell_type": "markdown",
   "metadata": {},
   "source": [
    "# 2. Logistic Regression"
   ]
  },
  {
   "cell_type": "code",
   "execution_count": null,
   "metadata": {},
   "outputs": [],
   "source": [
    "evaluation_dataframes['LogisticRegression'] = pd.DataFrame(columns=['name', 'learning_model', 'feature', 'clip_counts', 'negation', 'remove_stopwords', 'lemmatise', 'additional_features', 'avg_cv_acc', 'rmse', 'min_acc', 'max_acc'])\n",
    "from sklearn.linear_model import LogisticRegression\n",
    "learning_model = LogisticRegression()"
   ]
  },
  {
   "cell_type": "code",
   "execution_count": null,
   "metadata": {},
   "outputs": [],
   "source": [
    "clip_counts = True\n",
    "negation = False\n",
    "remove_stopwords = False\n",
    "lemmatise = False\n",
    "additional_features = False\n",
    "feature = 'unigram'"
   ]
  },
  {
   "cell_type": "markdown",
   "metadata": {},
   "source": [
    "## 2.1 Baseline"
   ]
  },
  {
   "cell_type": "code",
   "execution_count": null,
   "metadata": {},
   "outputs": [],
   "source": [
    "model = PolarityPredictor(clip_counts, negation, remove_stopwords, lemmatise, additional_features, learning_model)\n",
    "baseline_avg, baseline_rmse, baseline_min_acc, baseline_max_acc = evaluate_model(model, splits, feature, verbose = True)\n",
    "evaluation_dataframes['LogisticRegression'].loc[0] = ['baseline-LR', learning_model, feature, clip_counts, negation, remove_stopwords, lemmatise, additional_features, baseline_avg, baseline_rmse, baseline_min_acc, baseline_max_acc]"
   ]
  },
  {
   "cell_type": "markdown",
   "metadata": {},
   "source": [
    "## 2.2 Parameter Experimentation"
   ]
  },
  {
   "cell_type": "code",
   "execution_count": null,
   "metadata": {},
   "outputs": [],
   "source": [
    "index = 1\n",
    "for feature in ['unigram', 'bigram', 'trigram']:\n",
    "    for clip_counts in (True, False):\n",
    "        for negation in (True, False):\n",
    "            for remove_stopwords in (True, False):\n",
    "                for lemmatise in (True, False):\n",
    "                    for additional_features in (True, False):\n",
    "                        model = PolarityPredictor(clip_counts, negation, remove_stopwords, lemmatise, learning_model)\n",
    "                        avg, rmse, min_acc, max_acc = evaluate_model(model, splits, feature, verbose = False)\n",
    "                        evaluation_dataframes['LogisticRegression'].loc[evaluation_dataframes['LogisticRegression'].index.max()+1] = [f'param-exp-LR-{index}', learning_model, feature, clip_counts, \n",
    "                                                                          negation, remove_stopwords, lemmatise, additional_features, avg, rmse, min_acc, max_acc]\n",
    "                        index += 1\n",
    "                        clear_output(wait=True)\n",
    "                        evaluation_dataframes['LogisticRegression']"
   ]
  },
  {
   "cell_type": "code",
   "execution_count": null,
   "metadata": {},
   "outputs": [],
   "source": [
    "evaluation_dataframes['LogisticRegression'].to_csv('output/logisticregression.csv')"
   ]
  },
  {
   "cell_type": "markdown",
   "metadata": {},
   "source": [
    "# 3. Decision Tree"
   ]
  },
  {
   "cell_type": "code",
   "execution_count": null,
   "metadata": {},
   "outputs": [],
   "source": [
    "evaluation_dataframes['DecisionTree'] = pd.DataFrame(columns=['name', 'learning_model', 'feature', 'clip_counts', 'negation', 'remove_stopwords', 'lemmatise', 'additional_features', 'avg_cv_acc', 'rmse', 'min_acc', 'max_acc'])\n",
    "from sklearn.tree import DecisionTreeClassifier\n",
    "learning_model = DecisionTreeClassifier()"
   ]
  },
  {
   "cell_type": "code",
   "execution_count": null,
   "metadata": {},
   "outputs": [],
   "source": [
    "clip_counts = True\n",
    "negation = False\n",
    "remove_stopwords = False\n",
    "lemmatise = False\n",
    "additional_features = False\n",
    "feature = 'unigram'"
   ]
  },
  {
   "cell_type": "markdown",
   "metadata": {},
   "source": [
    "## 3.1 Baseline"
   ]
  },
  {
   "cell_type": "code",
   "execution_count": null,
   "metadata": {},
   "outputs": [],
   "source": [
    "model = PolarityPredictor(clip_counts, negation, remove_stopwords, lemmatise, additional_features, learning_model)\n",
    "baseline_avg, baseline_rmse, baseline_min_acc, baseline_max_acc = evaluate_model(model, splits, feature, verbose = True)\n",
    "evaluation_dataframes['DecisionTree'].loc[0] = ['baseline-DT', learning_model, feature, clip_counts, negation, remove_stopwords, lemmatise, additional_features, baseline_avg, baseline_rmse, baseline_min_acc, baseline_max_acc]"
   ]
  },
  {
   "cell_type": "markdown",
   "metadata": {},
   "source": [
    "## 3.2 Parameter Estimation"
   ]
  },
  {
   "cell_type": "code",
   "execution_count": null,
   "metadata": {},
   "outputs": [],
   "source": [
    "index = 1\n",
    "for feature in ['unigram', 'bigram', 'trigram']:\n",
    "    for clip_counts in (True, False):\n",
    "        for negation in (True, False):\n",
    "            for remove_stopwords in (True, False):\n",
    "                for lemmatise in (True, False):\n",
    "                    for additional_features in (True, False):\n",
    "                        model = PolarityPredictor(clip_counts, negation, remove_stopwords, lemmatise, learning_model)\n",
    "                        avg, rmse, min_acc, max_acc = evaluate_model(model, splits, feature, verbose = False)\n",
    "                        evaluation_dataframes['DecisionTree'].loc[evaluation_dataframes['DecisionTree'].index.max()+1] = [f'param-exp-DT-{index}', learning_model, feature, clip_counts, \n",
    "                                                                          negation, remove_stopwords, lemmatise, additional_features, avg, rmse, min_acc, max_acc]\n",
    "                        index += 1\n",
    "                        clear_output(wait=True)\n",
    "                        evaluation_dataframes['DecisionTree']"
   ]
  },
  {
   "cell_type": "code",
   "execution_count": null,
   "metadata": {},
   "outputs": [],
   "source": [
    "evaluation_dataframes['DecisionTree'].to_csv('output/decisiontree.csv')"
   ]
  },
  {
   "cell_type": "markdown",
   "metadata": {},
   "source": [
    "# 4. SVM Classifier"
   ]
  },
  {
   "cell_type": "code",
   "execution_count": null,
   "metadata": {},
   "outputs": [],
   "source": [
    "evaluation_dataframes['SVM'] = pd.DataFrame(columns=['name', 'learning_model', 'feature', 'clip_counts', 'negation', 'remove_stopwords', 'lemmatise', 'additional_features', 'avg_cv_acc', 'rmse', 'min_acc', 'max_acc'])\n",
    "from sklearn.svm import SVC\n",
    "learning_model = SVC()"
   ]
  },
  {
   "cell_type": "code",
   "execution_count": null,
   "metadata": {},
   "outputs": [],
   "source": [
    "clip_counts = True\n",
    "negation = False\n",
    "remove_stopwords = False\n",
    "lemmatise = False\n",
    "additional_features = False\n",
    "feature = 'unigram'"
   ]
  },
  {
   "cell_type": "markdown",
   "metadata": {},
   "source": [
    "## 4.1 Baseline"
   ]
  },
  {
   "cell_type": "code",
   "execution_count": null,
   "metadata": {},
   "outputs": [],
   "source": [
    "model = PolarityPredictor(clip_counts, negation, remove_stopwords, lemmatise, additional_features, learning_model)\n",
    "baseline_avg, baseline_rmse, baseline_min_acc, baseline_max_acc = evaluate_model(model, splits, feature, verbose = True)\n",
    "evaluation_dataframes['SVM'].loc[0] = ['baseline-SVM', learning_model, feature, clip_counts, negation, remove_stopwords, lemmatise, additional_features, baseline_avg, baseline_rmse, baseline_min_acc, baseline_max_acc]"
   ]
  },
  {
   "cell_type": "markdown",
   "metadata": {},
   "source": [
    "## 4.2 Parameter Estimation"
   ]
  },
  {
   "cell_type": "code",
   "execution_count": null,
   "metadata": {},
   "outputs": [],
   "source": [
    "index = 1\n",
    "for feature in ['unigram', 'bigram', 'trigram']:\n",
    "    for clip_counts in (True, False):\n",
    "        for negation in (True, False):\n",
    "            for remove_stopwords in (True, False):\n",
    "                for lemmatise in (True, False):\n",
    "                    for additional_features in (True, False):\n",
    "                        model = PolarityPredictor(clip_counts, negation, remove_stopwords, lemmatise, learning_model)\n",
    "                        avg, rmse, min_acc, max_acc = evaluate_model(model, splits, feature, verbose = False)\n",
    "                        evaluation_dataframes['SVM'].loc[evaluation_dataframes['SVM'].index.max()+1] = [f'param-exp-SVM-{index}', learning_model, feature, clip_counts, \n",
    "                                                                          negation, remove_stopwords, lemmatise, additional_features, avg, rmse, min_acc, max_acc]\n",
    "                        index += 1\n",
    "                        clear_output(wait=True)\n",
    "                        evaluation_dataframes['SVM']"
   ]
  },
  {
   "cell_type": "code",
   "execution_count": null,
   "metadata": {},
   "outputs": [],
   "source": [
    "evaluation_dataframes['SVM'].to_csv('output/svm.csv')"
   ]
  },
  {
   "cell_type": "markdown",
   "metadata": {},
   "source": [
    "# 5. Random Forest Classifier"
   ]
  },
  {
   "cell_type": "code",
   "execution_count": null,
   "metadata": {},
   "outputs": [],
   "source": [
    "evaluation_dataframes['RandomForest'] = pd.DataFrame(columns=['name', 'learning_model', 'feature', 'clip_counts', 'negation', 'remove_stopwords', 'lemmatise', 'additional_features', 'avg_cv_acc', 'rmse', 'min_acc', 'max_acc'])\n",
    "from sklearn.ensemble import RandomForestClassifier\n",
    "learning_model = RandomForestClassifier()"
   ]
  },
  {
   "cell_type": "code",
   "execution_count": null,
   "metadata": {},
   "outputs": [],
   "source": [
    "clip_counts = True\n",
    "negation = False\n",
    "remove_stopwords = False\n",
    "lemmatise = False\n",
    "additional_features = False\n",
    "feature = 'unigram'"
   ]
  },
  {
   "cell_type": "markdown",
   "metadata": {},
   "source": [
    "## 4.1 Baseline"
   ]
  },
  {
   "cell_type": "code",
   "execution_count": null,
   "metadata": {},
   "outputs": [],
   "source": [
    "model = PolarityPredictor(clip_counts, negation, remove_stopwords, lemmatise, additional_features, learning_model)\n",
    "baseline_avg, baseline_rmse, baseline_min_acc, baseline_max_acc = evaluate_model(model, splits, feature, verbose = True)\n",
    "evaluation_dataframes['RandomForest'].loc[0] = ['baseline-RF', learning_model, feature, clip_counts, negation, remove_stopwords, lemmatise, additional_features, baseline_avg, baseline_rmse, baseline_min_acc, baseline_max_acc]"
   ]
  },
  {
   "cell_type": "markdown",
   "metadata": {},
   "source": [
    "## 4.2 Parameter Estimation"
   ]
  },
  {
   "cell_type": "code",
   "execution_count": null,
   "metadata": {},
   "outputs": [],
   "source": [
    "index = 1\n",
    "for feature in ['unigram', 'bigram', 'trigram']:\n",
    "    for clip_counts in (True, False):\n",
    "        for negation in (True, False):\n",
    "            for remove_stopwords in (True, False):\n",
    "                for lemmatise in (True, False):\n",
    "                    for additional_features in (True, False):\n",
    "                        model = PolarityPredictor(clip_counts, negation, remove_stopwords, lemmatise, learning_model)\n",
    "                        avg, rmse, min_acc, max_acc = evaluate_model(model, splits, feature, verbose = False)\n",
    "                        evaluation_dataframes['RandomForest'].loc[evaluation_dataframes['RandomForest'].index.max()+1] = [f'param-exp-RF-{index}', learning_model, feature, clip_counts, \n",
    "                                                                          negation, remove_stopwords, lemmatise, additional_features, avg, rmse, min_acc, max_acc]\n",
    "                        index += 1\n",
    "                        clear_output(wait=True)\n",
    "                        evaluation_dataframes['RandomForest']"
   ]
  },
  {
   "cell_type": "code",
   "execution_count": null,
   "metadata": {},
   "outputs": [],
   "source": [
    "evaluation_dataframes['RandomForest'].to_csv('output/randomforest.csv')"
   ]
  },
  {
   "cell_type": "code",
   "execution_count": null,
   "metadata": {},
   "outputs": [],
   "source": []
  },
  {
   "cell_type": "code",
   "execution_count": null,
   "metadata": {},
   "outputs": [],
   "source": []
  },
  {
   "cell_type": "code",
   "execution_count": null,
   "metadata": {},
   "outputs": [],
   "source": []
  },
  {
   "cell_type": "code",
   "execution_count": null,
   "metadata": {},
   "outputs": [],
   "source": []
  }
 ],
 "metadata": {
  "kernelspec": {
   "display_name": "Python 3",
   "language": "python",
   "name": "python3"
  },
  "language_info": {
   "codemirror_mode": {
    "name": "ipython",
    "version": 3
   },
   "file_extension": ".py",
   "mimetype": "text/x-python",
   "name": "python",
   "nbconvert_exporter": "python",
   "pygments_lexer": "ipython3",
   "version": "3.8.5"
  }
 },
 "nbformat": 4,
 "nbformat_minor": 5
}
