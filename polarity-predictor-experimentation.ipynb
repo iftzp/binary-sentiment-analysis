{
 "cells": [
  {
   "cell_type": "markdown",
   "metadata": {},
   "source": [
    "# Sentiment Polarity Prediction with Naive Bayes\n",
    "\n",
    "This notebook contains a basic implementation of document-level sentiment analysis\n",
    "for movie reviews with multinomial Naive Bayes and bag-of-words features\n",
    "and of cross-validation.\n",
    "* No special treatment of rare or unknown words. Unknown words in the test data are skipped.\n",
    "\n",
    "We use the movie review polarity data set of Pang and Lee 2004 [A Sentimental Education: Sentiment Analysis Using Subjectivity Summarization Based on Minimum Cuts](https://www.aclweb.org/anthology/P04-1035/) in Version 2.0 available from http://www.cs.cornell.edu/People/pabo/movie-review-data (section \"Sentiment polarity datasets\"). This dataset contains 1000 positive and 1000 negative reviews, each tokenised, sentence-split (one sentence per line) and lowercased. Each review has been assigned to 1 of 10 cross-validation folds by the authors and this setup should be followed to compare with published results.\n"
   ]
  },
  {
   "cell_type": "markdown",
   "metadata": {},
   "source": [
    "We have been tasked with building a sentiment analysis model which attempts to classify a movie review as either positive or negative.  \n",
    "\n",
    "The goal is to improve the accuracy of the baseline model in this notebook by carrying out a series of experiments.  \n",
    "The baseline model uses a bag of words feature representation and a Multinomial Naive Bayes classifier. We have been encouraged to use techniques such as using different learning algorithms and feature sets.  \n",
    "  \n",
    "The baseline model also has a clip counts feature which limits the numbers in the feature matrix to either 0 or 1.  \n",
    "We attempt to improve the model by attempting using a <b>Bag of Bigram</b> and <b>Bag of Trigram</b> feature representation.  \n",
    "\n",
    "We also have created <b>additional features</b>, *Number of negated tokens*, *number of positive sentiment lexicons* and *number of negative sentiment lexicons*.  \n",
    "  \n",
    "We use a lexicon"
   ]
  },
  {
   "cell_type": "markdown",
   "metadata": {},
   "source": [
    "#"
   ]
  }
 ],
 "metadata": {
  "kernelspec": {
   "display_name": "Python 3",
   "language": "python",
   "name": "python3"
  },
  "language_info": {
   "codemirror_mode": {
    "name": "ipython",
    "version": 3
   },
   "file_extension": ".py",
   "mimetype": "text/x-python",
   "name": "python",
   "nbconvert_exporter": "python",
   "pygments_lexer": "ipython3",
   "version": "3.8.5"
  }
 },
 "nbformat": 4,
 "nbformat_minor": 4
}
