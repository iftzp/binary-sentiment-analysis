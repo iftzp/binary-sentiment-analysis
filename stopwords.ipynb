{
 "cells": [
  {
   "cell_type": "code",
   "execution_count": 1,
   "metadata": {},
   "outputs": [
    {
     "name": "stderr",
     "output_type": "stream",
     "text": [
      "[nltk_data] Downloading package stopwords to /Users/ivan/nltk_data...\n",
      "[nltk_data]   Package stopwords is already up-to-date!\n"
     ]
    },
    {
     "data": {
      "text/plain": [
       "True"
      ]
     },
     "execution_count": 1,
     "metadata": {},
     "output_type": "execute_result"
    }
   ],
   "source": [
    "import nltk\n",
    "nltk.download('stopwords')\n",
    "# from nltk.corpus import stopwords\n",
    "# stopWords = set(stopwords.words('english'))\n",
    "# print(stopWords)"
   ]
  },
  {
   "cell_type": "code",
   "execution_count": 3,
   "metadata": {},
   "outputs": [],
   "source": [
    "stopWords = set(nltk.corpus.stopwords.words('english'))"
   ]
  },
  {
   "cell_type": "code",
   "execution_count": 4,
   "metadata": {},
   "outputs": [
    {
     "name": "stdout",
     "output_type": "stream",
     "text": [
      "{'into', 'him', 'above', 'ma', 'am', 'be', 'an', \"you'll\", 'them', 'out', 'he', 'herself', 'mightn', 'your', 'each', 'for', 'than', \"aren't\", 'having', 'up', 'itself', 'so', 'theirs', 'did', 'aren', 'shan', 'yourselves', \"that'll\", 'further', 'again', 'once', \"you've\", 'too', 'only', 'until', 'been', 'about', 'o', \"mustn't\", 'ourselves', 'who', 'of', 'we', 'don', 'when', \"should've\", \"shan't\", 't', 'through', 'what', 'off', 'being', 'were', 'can', 'few', 'hadn', 'shouldn', 'hasn', 'yourself', 'has', 'myself', 've', \"doesn't\", \"hasn't\", \"wouldn't\", 'his', 'both', 'then', 'couldn', 'm', 'which', 'such', 'their', 'after', 'weren', \"weren't\", 'and', 'our', 'hers', 'below', 'will', 'yours', 'on', 'was', 'she', 'my', 'over', 'whom', \"don't\", 'the', 'before', 'needn', 'does', 'if', \"haven't\", 'now', 'isn', 'there', 'ain', 'that', 'any', 'is', 'but', 'with', 'do', 'not', 'just', 'against', 'its', 'haven', 'they', \"you're\", 'at', 'from', 'doesn', \"she's\", 'here', 'nor', 'very', 'me', 'no', 'y', 'mustn', \"mightn't\", 'wouldn', 'same', 'while', 'how', 'this', 'down', 'had', 'under', \"wasn't\", 'her', 'wasn', \"shouldn't\", 'a', 'because', 're', 'or', \"won't\", 'more', 'won', 'i', 'all', 'during', 'other', 'own', 'as', 'doing', 'most', 'it', 'why', 'have', \"hadn't\", 'ours', \"couldn't\", \"isn't\", \"needn't\", 'those', 'between', 'himself', 's', \"didn't\", 'themselves', 'should', 'you', \"you'd\", 'to', 'll', 'didn', 'where', 'some', 'these', 'are', \"it's\", 'd', 'in', 'by'}\n"
     ]
    }
   ],
   "source": [
    "print(stopWords)"
   ]
  },
  {
   "cell_type": "code",
   "execution_count": null,
   "metadata": {},
   "outputs": [],
   "source": [
    "print(type(stopWords))"
   ]
  },
  {
   "cell_type": "code",
   "execution_count": null,
   "metadata": {},
   "outputs": [],
   "source": [
    "for word in stopWords:\n",
    "    print(word)"
   ]
  },
  {
   "cell_type": "code",
   "execution_count": null,
   "metadata": {},
   "outputs": [],
   "source": []
  }
 ],
 "metadata": {
  "kernelspec": {
   "display_name": "Python 3",
   "language": "python",
   "name": "python3"
  },
  "language_info": {
   "codemirror_mode": {
    "name": "ipython",
    "version": 3
   },
   "file_extension": ".py",
   "mimetype": "text/x-python",
   "name": "python",
   "nbconvert_exporter": "python",
   "pygments_lexer": "ipython3",
   "version": "3.8.5"
  }
 },
 "nbformat": 4,
 "nbformat_minor": 4
}
